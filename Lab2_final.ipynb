{
 "cells": [
  {
   "cell_type": "markdown",
   "id": "c3b360ce",
   "metadata": {
    "id": "c3b360ce"
   },
   "source": [
    "# Position Classification for FC Barcelona's Youth Players\n",
    "\n",
    "## 1. Project Overview\n",
    "\n",
    "As the newly appointed data scientist for FC Barcelona, your pivotal role is to harness the power of data analytics to enhance the team's talent development strategy. <br>\n",
    "Leveraging the extensive player data from FIFA 2022, this project endeavors to establish a robust classification model that can accurately recommend the optimal playing position for each youth player. <br>\n",
    "By delving into the players' physical attributes and their correlation with on-field performance, the project aims to provide actionable insights to the coaching staff, fostering effective player positioning and skill development.\n",
    "\n",
    "## 2. Project Objectives\n",
    "\n",
    "1. **Data Preprocessing and Quality Assurance:** Thoroughly clean the FIFA 2022 player dataset, addressing missing values, outliers, and inconsistencies to ensure the accuracy and reliability of subsequent analyses.\n",
    "\n",
    "2. **Feature Creation and Engineering:** Utilize domain knowledge to craft meaningful new features from the existing dataset, amplifying the predictive power of the model and capturing nuanced player attributes.\n",
    "\n",
    "3. **Exploratory Data Analysis (EDA):** Conduct an in-depth analysis of the most influential features, unveiling correlations between physical attributes and playing positions, guiding feature selection and model development.\n",
    "\n",
    "4. **Cross-Validation Strategy:** Implement robust cross-validation techniques to mitigate overfitting and optimize model generalization performance.\n",
    "\n",
    "5. **Model Selection and Justification:** Deploy a minimum of two machine learning models, such as Random Forest and Gradient Boosting, seen in class. Elaborate on the rationale behind each model choice, considering their ability to handle non-linearity, feature interactions, and overall performance.\n",
    "\n",
    "6. **Ensemble Modeling (Bonus Objective):** Demonstrate advanced expertise by creating an ensemble model that amalgamates predictions from multiple base models, leveraging the strengths of individual models for improved accuracy and robustness.\n",
    "\n",
    "7. **Performance Evaluation:** Utilize appropriate evaluation metrics such as accuracy, precision, recall, and F1-score to comprehensively assess the models' classification performance.\n",
    "\n",
    "8. **Kaggle Competition:** your model's prowess by participating in a Kaggle competition, uploading the refined data and comparing your model's accuracy against other teams' submissions. This step provides real-world validation of your model's effectiveness\n",
    "\n",
    "## 3. Data provided\n",
    "\n",
    "Presented below is the comprehensive roster of variables available for analysis. The primary objective of this undertaking is to predict and forecast the player's designated **position** based on these aforementioned variables.\n",
    "\n",
    "* id: Unique identifier for each player.\n",
    "* short_name: Short name or nickname of the player.\n",
    "* overall: Player's overall rating, representing their overall skill level.\n",
    "* potential: Player's potential rating, indicating their potential skill growth.\n",
    "* value_eur: Player's market value in euros.\n",
    "* wage_eur: Player's weekly wage in euros.\n",
    "* birthday_date: Player's date of birth.\n",
    "* height_cm: Player's height in centimeters.\n",
    "* weight_kg: Player's weight in kilograms.\n",
    "* club_name: Name of the player's club.\n",
    "* league_name: Name of the league the club belongs to.\n",
    "* position: Player's preferred playing position.\n",
    "* preferred_foot: Player's preferred kicking foot (left or right).\n",
    "* weak_foot: Player's weak foot rating, indicating their weaker kicking foot's ability.\n",
    "* skill_moves: Player's skill moves rating, representing their dribbling and ball control skills.\n",
    "* international_reputation: Player's international reputation level.\n",
    "* pace, shooting, passing, dribbling, defending, physic: Attributes representing different aspects of a player's playing style and skills.\n",
    "* mentality_aggression, mentality_vision, mentality_composure: Attributes representing mental aspects of a player's game.\n",
    "* attacking_crossing, attacking_finishing, attacking_heading_accuracy: Attributes related to attacking and finishing skills.\n",
    "* movement_acceleration, movement_sprint_speed, movement_agility: Attributes related to a player's speed and agility.\n",
    "* power_shot_power, power_jumping, power_stamina: Attributes representing a player's physical power and endurance.\n",
    "* defending_marking_awareness, defending_standing_tackle, defending_sliding_tackle: Attributes representing a player's defensive skills.\n",
    "* goalkeeping_diving, goalkeeping_handling, goalkeeping_positioning: Goalkeeping attributes related to diving, handling, and positioning.\n",
    "* goalkeeping_reflexes, goalkeeping_speed: Attributes representing a goalkeeper's reflexes and speed.\n",
    "\n",
    "### Positions possible\n",
    "\n",
    "Your objective involves predicting the player's position. To facilitate this task, provided here is a description encompassing the potential values that the position variable can assume. The positions in the FIFA dataset represent the various playing roles that a soccer player can assume on the field. Here's the description of each position:\n",
    "\n",
    "* RW (Right Winger): A player positioned on the right flank of the field, often involved in attacking and crossing from the right side.\n",
    "* ST (Striker): The primary goal-scoring position, responsible for leading the attack and converting chances into goals.\n",
    "* LW (Left Winger): Similar to the RW, a player positioned on the left flank, typically involved in offensive plays and providing crosses.\n",
    "* RCM (Right Center Midfielder): Positioned centrally, this player often participates in both offensive and defensive actions from the right side of the midfield.\n",
    "* GK (Goalkeeper): The player who guards the goal and is primarily responsible for preventing the opposing team from scoring.\n",
    "* CDM (Central Defensive Midfielder): Positioned centrally, this player's role involves shielding the defense and distributing the ball to initiate attacks.\n",
    "* LCB (Left Center Back): Positioned on the left side of the central defense, responsible for stopping opposing attacks and distributing the ball to start build-up.\n",
    "* RDM (Right Defensive Midfielder): Positioned centrally, this player focuses on defensive duties and ball distribution from the right side of the midfield.\n",
    "* RS (Right Striker): Positioned towards the right side of the attacking line, tasked with goal-scoring and contributing to offensive plays.\n",
    "* LCM (Left Center Midfielder): Positioned centrally, this player contributes to both defensive and offensive actions from the left side of the midfield.\n",
    "* CAM (Central Attacking Midfielder): Positioned centrally, this player operates behind the forwards, often responsible for creating scoring opportunities.\n",
    "* RCB (Right Center Back): Positioned on the right side of the central defense, involved in defensive actions and initiating play from the back.\n",
    "* LDM (Left Defensive Midfielder): Positioned centrally, this player combines defensive responsibilities with ball distribution from the left side of the midfield.\n",
    "* LB (Left Back): Positioned on the left side of the defensive line, responsible for both defensive actions and supporting attacking plays.\n",
    "* RB (Right Back): Positioned on the right side of the defensive line, performing defensive duties and contributing to the attack.\n",
    "* LM (Left Midfielder): Positioned on the left flank, this player combines defensive actions with supporting offensive plays from the left side.\n",
    "* RM (Right Midfielder): Positioned on the right flank, this player performs defensive and offensive roles from the right side of the field.\n",
    "* LS (Left Striker): Positioned towards the left side of the attacking line, contributing to goal-scoring and offensive maneuvers.\n",
    "* CB (Center Back): Positioned centrally in the defense, this player's main role is to stop opposing attacks and maintain defensive stability.\n",
    "* RWB (Right Wing Back): Positioned on the right flank, this player combines defensive actions with supporting attacks from the right side.\n",
    "* RF (Right Forward): Positioned in the forward line, primarily tasked with scoring goals and participating in offensive plays from the right side.\n",
    "* CM (Central Midfielder): Positioned centrally in the midfield, this player is involved in both defensive and offensive actions.\n",
    "* LWB (Left Wing Back): Positioned on the left flank, this player performs defensive and attacking roles, similar to a wing-back.\n",
    "* LF (Left Forward): Positioned in the forward line, responsible for goal-scoring and contributing to offensive maneuvers from the left side.\n",
    "\n",
    "## 4. Kaggle submission\n",
    "\n",
    "Once you have produced testset predictions you can submit these to <i> kaggle </i> in order to see how your model performs and compete with your collegues.\n",
    "\n",
    "The following code provides an example of generating a <i> .csv </i> file to submit to kaggle\n",
    "1. Create a pandas dataframe with two columns, one with the test set \"id\"'s and the other with your predicted \"position\" for that observation\n",
    "\n",
    "2. Use the <i> .to_csv </i> pandas method to create a csv file. The <i> index = False </i> is important to ensure the <i> .csv </i> is in the format kaggle expects"
   ]
  },
  {
   "cell_type": "markdown",
   "id": "4b5d8c06",
   "metadata": {},
   "source": [
    "# Importing data"
   ]
  },
  {
   "cell_type": "code",
   "execution_count": 33,
   "id": "787a11ab",
   "metadata": {
    "colab": {
     "base_uri": "https://localhost:8080/",
     "height": 231
    },
    "id": "787a11ab",
    "outputId": "5524aa37-5a49-4cbc-d46e-ba3c8f1fe691"
   },
   "outputs": [
    {
     "data": {
      "text/html": [
       "<div>\n",
       "<style scoped>\n",
       "    .dataframe tbody tr th:only-of-type {\n",
       "        vertical-align: middle;\n",
       "    }\n",
       "\n",
       "    .dataframe tbody tr th {\n",
       "        vertical-align: top;\n",
       "    }\n",
       "\n",
       "    .dataframe thead th {\n",
       "        text-align: right;\n",
       "    }\n",
       "</style>\n",
       "<table border=\"1\" class=\"dataframe\">\n",
       "  <thead>\n",
       "    <tr style=\"text-align: right;\">\n",
       "      <th></th>\n",
       "      <th>id</th>\n",
       "      <th>short_name</th>\n",
       "      <th>overall</th>\n",
       "      <th>potential</th>\n",
       "      <th>value_eur</th>\n",
       "      <th>wage_eur</th>\n",
       "      <th>birthday_date</th>\n",
       "      <th>height_cm</th>\n",
       "      <th>weight_kg</th>\n",
       "      <th>club_name</th>\n",
       "      <th>...</th>\n",
       "      <th>defending_marking_awareness</th>\n",
       "      <th>defending_standing_tackle</th>\n",
       "      <th>defending_sliding_tackle</th>\n",
       "      <th>goalkeeping_diving</th>\n",
       "      <th>goalkeeping_handling</th>\n",
       "      <th>goalkeeping_kicking</th>\n",
       "      <th>goalkeeping_positioning</th>\n",
       "      <th>goalkeeping_reflexes</th>\n",
       "      <th>goalkeeping_speed</th>\n",
       "      <th>position</th>\n",
       "    </tr>\n",
       "  </thead>\n",
       "  <tbody>\n",
       "    <tr>\n",
       "      <th>0</th>\n",
       "      <td>216302</td>\n",
       "      <td>E. García</td>\n",
       "      <td>71</td>\n",
       "      <td>71</td>\n",
       "      <td>1400000.0</td>\n",
       "      <td>10000</td>\n",
       "      <td>1989-12-28</td>\n",
       "      <td>176</td>\n",
       "      <td>73</td>\n",
       "      <td>Club Atlético de San Luis</td>\n",
       "      <td>...</td>\n",
       "      <td>65</td>\n",
       "      <td>66</td>\n",
       "      <td>65</td>\n",
       "      <td>14</td>\n",
       "      <td>11</td>\n",
       "      <td>12</td>\n",
       "      <td>12</td>\n",
       "      <td>12</td>\n",
       "      <td>NaN</td>\n",
       "      <td>LB</td>\n",
       "    </tr>\n",
       "    <tr>\n",
       "      <th>1</th>\n",
       "      <td>237867</td>\n",
       "      <td>D. Cancola</td>\n",
       "      <td>65</td>\n",
       "      <td>71</td>\n",
       "      <td>1000000.0</td>\n",
       "      <td>2000</td>\n",
       "      <td>1996-10-23</td>\n",
       "      <td>183</td>\n",
       "      <td>73</td>\n",
       "      <td>Ross County FC</td>\n",
       "      <td>...</td>\n",
       "      <td>65</td>\n",
       "      <td>61</td>\n",
       "      <td>58</td>\n",
       "      <td>10</td>\n",
       "      <td>13</td>\n",
       "      <td>7</td>\n",
       "      <td>6</td>\n",
       "      <td>11</td>\n",
       "      <td>NaN</td>\n",
       "      <td>LDM</td>\n",
       "    </tr>\n",
       "  </tbody>\n",
       "</table>\n",
       "<p>2 rows × 70 columns</p>\n",
       "</div>"
      ],
      "text/plain": [
       "       id  short_name  overall  potential  value_eur  wage_eur birthday_date  \\\n",
       "0  216302   E. García       71         71  1400000.0     10000    1989-12-28   \n",
       "1  237867  D. Cancola       65         71  1000000.0      2000    1996-10-23   \n",
       "\n",
       "   height_cm  weight_kg                  club_name  ...  \\\n",
       "0        176         73  Club Atlético de San Luis  ...   \n",
       "1        183         73             Ross County FC  ...   \n",
       "\n",
       "  defending_marking_awareness  defending_standing_tackle  \\\n",
       "0                          65                         66   \n",
       "1                          65                         61   \n",
       "\n",
       "   defending_sliding_tackle goalkeeping_diving goalkeeping_handling  \\\n",
       "0                        65                 14                   11   \n",
       "1                        58                 10                   13   \n",
       "\n",
       "   goalkeeping_kicking goalkeeping_positioning  goalkeeping_reflexes  \\\n",
       "0                   12                      12                    12   \n",
       "1                    7                       6                    11   \n",
       "\n",
       "  goalkeeping_speed  position  \n",
       "0               NaN        LB  \n",
       "1               NaN       LDM  \n",
       "\n",
       "[2 rows x 70 columns]"
      ]
     },
     "execution_count": 33,
     "metadata": {},
     "output_type": "execute_result"
    }
   ],
   "source": [
    "import os\n",
    "import pandas as pd\n",
    "import numpy as np\n",
    "\n",
    "\n",
    "cwd = os.getcwd()\n",
    "df = pd.read_csv(cwd + '/Data/train.csv')\n",
    "df.head(2)"
   ]
  },
  {
   "cell_type": "code",
   "execution_count": 34,
   "id": "abc2b206",
   "metadata": {
    "colab": {
     "base_uri": "https://localhost:8080/"
    },
    "id": "abc2b206",
    "outputId": "994af930-ec2f-4ff5-9bbe-3dfd04770ef5"
   },
   "outputs": [
    {
     "data": {
      "text/plain": [
       "(6895, 70)"
      ]
     },
     "execution_count": 34,
     "metadata": {},
     "output_type": "execute_result"
    }
   ],
   "source": [
    "df.shape"
   ]
  },
  {
   "cell_type": "markdown",
   "id": "0f5718f8",
   "metadata": {
    "id": "0f5718f8"
   },
   "source": [
    "# Data Inspection"
   ]
  },
  {
   "cell_type": "code",
   "execution_count": 6,
   "id": "zCxinwXFbDKP",
   "metadata": {
    "id": "zCxinwXFbDKP"
   },
   "outputs": [
    {
     "ename": "AttributeError",
     "evalue": "module 'matplotlib.cm' has no attribute 'register_cmap'",
     "output_type": "error",
     "traceback": [
      "\u001b[1;31m---------------------------------------------------------------------------\u001b[0m",
      "\u001b[1;31mAttributeError\u001b[0m                            Traceback (most recent call last)",
      "Cell \u001b[1;32mIn[6], line 1\u001b[0m\n\u001b[1;32m----> 1\u001b[0m \u001b[38;5;28;01mimport\u001b[39;00m \u001b[38;5;21;01mseaborn\u001b[39;00m \u001b[38;5;28;01mas\u001b[39;00m \u001b[38;5;21;01msns\u001b[39;00m\n\u001b[0;32m      2\u001b[0m \u001b[38;5;28;01mimport\u001b[39;00m \u001b[38;5;21;01mmatplotlib\u001b[39;00m\u001b[38;5;21;01m.\u001b[39;00m\u001b[38;5;21;01mpyplot\u001b[39;00m \u001b[38;5;28;01mas\u001b[39;00m \u001b[38;5;21;01mplt\u001b[39;00m\n",
      "File \u001b[1;32mc:\\Users\\Blanca\\anaconda3\\Lib\\site-packages\\seaborn\\__init__.py:9\u001b[0m\n\u001b[0;32m      7\u001b[0m \u001b[38;5;28;01mfrom\u001b[39;00m \u001b[38;5;21;01m.\u001b[39;00m\u001b[38;5;21;01mcategorical\u001b[39;00m \u001b[38;5;28;01mimport\u001b[39;00m \u001b[38;5;241m*\u001b[39m  \u001b[38;5;66;03m# noqa: F401,F403\u001b[39;00m\n\u001b[0;32m      8\u001b[0m \u001b[38;5;28;01mfrom\u001b[39;00m \u001b[38;5;21;01m.\u001b[39;00m\u001b[38;5;21;01mdistributions\u001b[39;00m \u001b[38;5;28;01mimport\u001b[39;00m \u001b[38;5;241m*\u001b[39m  \u001b[38;5;66;03m# noqa: F401,F403\u001b[39;00m\n\u001b[1;32m----> 9\u001b[0m \u001b[38;5;28;01mfrom\u001b[39;00m \u001b[38;5;21;01m.\u001b[39;00m\u001b[38;5;21;01mmatrix\u001b[39;00m \u001b[38;5;28;01mimport\u001b[39;00m \u001b[38;5;241m*\u001b[39m  \u001b[38;5;66;03m# noqa: F401,F403\u001b[39;00m\n\u001b[0;32m     10\u001b[0m \u001b[38;5;28;01mfrom\u001b[39;00m \u001b[38;5;21;01m.\u001b[39;00m\u001b[38;5;21;01mmiscplot\u001b[39;00m \u001b[38;5;28;01mimport\u001b[39;00m \u001b[38;5;241m*\u001b[39m  \u001b[38;5;66;03m# noqa: F401,F403\u001b[39;00m\n\u001b[0;32m     11\u001b[0m \u001b[38;5;28;01mfrom\u001b[39;00m \u001b[38;5;21;01m.\u001b[39;00m\u001b[38;5;21;01maxisgrid\u001b[39;00m \u001b[38;5;28;01mimport\u001b[39;00m \u001b[38;5;241m*\u001b[39m  \u001b[38;5;66;03m# noqa: F401,F403\u001b[39;00m\n",
      "File \u001b[1;32mc:\\Users\\Blanca\\anaconda3\\Lib\\site-packages\\seaborn\\matrix.py:12\u001b[0m\n\u001b[0;32m      9\u001b[0m \u001b[38;5;28;01mimport\u001b[39;00m \u001b[38;5;21;01mpandas\u001b[39;00m \u001b[38;5;28;01mas\u001b[39;00m \u001b[38;5;21;01mpd\u001b[39;00m\n\u001b[0;32m     10\u001b[0m \u001b[38;5;28;01mfrom\u001b[39;00m \u001b[38;5;21;01mscipy\u001b[39;00m\u001b[38;5;21;01m.\u001b[39;00m\u001b[38;5;21;01mcluster\u001b[39;00m \u001b[38;5;28;01mimport\u001b[39;00m hierarchy\n\u001b[1;32m---> 12\u001b[0m \u001b[38;5;28;01mfrom\u001b[39;00m \u001b[38;5;21;01m.\u001b[39;00m \u001b[38;5;28;01mimport\u001b[39;00m cm\n\u001b[0;32m     13\u001b[0m \u001b[38;5;28;01mfrom\u001b[39;00m \u001b[38;5;21;01m.\u001b[39;00m\u001b[38;5;21;01maxisgrid\u001b[39;00m \u001b[38;5;28;01mimport\u001b[39;00m Grid\n\u001b[0;32m     14\u001b[0m \u001b[38;5;28;01mfrom\u001b[39;00m \u001b[38;5;21;01m.\u001b[39;00m\u001b[38;5;21;01mutils\u001b[39;00m \u001b[38;5;28;01mimport\u001b[39;00m (\n\u001b[0;32m     15\u001b[0m     despine,\n\u001b[0;32m     16\u001b[0m     axis_ticklabels_overlap,\n\u001b[1;32m   (...)\u001b[0m\n\u001b[0;32m     19\u001b[0m     _draw_figure,\n\u001b[0;32m     20\u001b[0m )\n",
      "File \u001b[1;32mc:\\Users\\Blanca\\anaconda3\\Lib\\site-packages\\seaborn\\cm.py:1582\u001b[0m\n\u001b[0;32m   1579\u001b[0m     _cmap_r \u001b[38;5;241m=\u001b[39m colors\u001b[38;5;241m.\u001b[39mListedColormap(_lut[::\u001b[38;5;241m-\u001b[39m\u001b[38;5;241m1\u001b[39m], _name \u001b[38;5;241m+\u001b[39m \u001b[38;5;124m\"\u001b[39m\u001b[38;5;124m_r\u001b[39m\u001b[38;5;124m\"\u001b[39m)  \n\u001b[0;32m   1580\u001b[0m     \u001b[38;5;28mlocals\u001b[39m()[_name \u001b[38;5;241m+\u001b[39m \u001b[38;5;124m\"\u001b[39m\u001b[38;5;124m_r\u001b[39m\u001b[38;5;124m\"\u001b[39m] \u001b[38;5;241m=\u001b[39m _cmap_r\n\u001b[1;32m-> 1582\u001b[0m     mpl_cm\u001b[38;5;241m.\u001b[39mregister_cmap(_name, _cmap)\n\u001b[0;32m   1583\u001b[0m     mpl_cm\u001b[38;5;241m.\u001b[39mregister_cmap(_name \u001b[38;5;241m+\u001b[39m \u001b[38;5;124m\"\u001b[39m\u001b[38;5;124m_r\u001b[39m\u001b[38;5;124m\"\u001b[39m, _cmap_r)\n\u001b[0;32m   1585\u001b[0m \u001b[38;5;28;01mdel\u001b[39;00m colors, mpl_cm\n",
      "\u001b[1;31mAttributeError\u001b[0m: module 'matplotlib.cm' has no attribute 'register_cmap'"
     ]
    }
   ],
   "source": [
    "import seaborn as sns\n",
    "import matplotlib.pyplot as plt"
   ]
  },
  {
   "cell_type": "markdown",
   "id": "a9002fe9",
   "metadata": {
    "id": "a9002fe9"
   },
   "source": [
    "## 1.1. Analysis of important features"
   ]
  },
  {
   "cell_type": "markdown",
   "id": "4bb43d1a",
   "metadata": {
    "id": "4bb43d1a"
   },
   "source": [
    "### 1.1.1. Initial Column Drop"
   ]
  },
  {
   "cell_type": "markdown",
   "id": "df4536a9",
   "metadata": {},
   "source": [
    "To make the initial data insprection easier, we drop all variables we deem irrelevant."
   ]
  },
  {
   "cell_type": "code",
   "execution_count": 35,
   "id": "329cbdea",
   "metadata": {
    "id": "329cbdea"
   },
   "outputs": [],
   "source": [
    "drop_columns = [\n",
    "    'id', 'short_name', 'overall', 'potential', 'value_eur', 'wage_eur',\n",
    "    'birthday_date', 'club_name', 'league_level', 'club_loaned_from', \n",
    "    'club_joined', 'club_contract_valid_until', 'nationality_name', 'international_reputation',\n",
    "    'real_face', 'nation_jersey_number', 'release_clause_eur', 'league_name'\n",
    "]\n",
    "\n",
    "df = df.drop(drop_columns, axis = 1)"
   ]
  },
  {
   "cell_type": "markdown",
   "id": "yYFUC4eNm38X",
   "metadata": {
    "id": "yYFUC4eNm38X"
   },
   "source": [
    "### Explanation of Features Dropped\n",
    "\n",
    "- **id**: This variable does not provide explanatory power for determining a player's position on the field.\n",
    "- **short_name**: A player's name has no correlation with their position on the field.\n",
    "- **overall**: The overall rating of a player does not significantly influence their position.\n",
    "- **potential**: The potential rating of a player is not correlated with their field position.\n",
    "- **value_eur**: Players of varying market values exist in all positions, making this variable uninformative for predicting position.\n",
    "- **wage_eur**: Similar to `value_eur`, player wages do not differentiate positions effectively.\n",
    "- **birthday_date**: Players of all age groups can occupy any position, rendering this variable non-discriminatory.\n",
    "- **club_name**: The club a player belongs to does not determine their position.\n",
    "- **league_level**: Positions remain consistent across leagues, irrespective of league level.\n",
    "- **club_loaned_from**, **club_joined**, **club_jersey_number**, **club_contract_valid_until**, **nationality_name**, **international_reputation**, **real_face**, **nation_jersey_number**, **release_clause_eur**: These variables lack explanatory power for determining a player's position.\n"
   ]
  },
  {
   "cell_type": "code",
   "execution_count": 8,
   "id": "16c7a774",
   "metadata": {},
   "outputs": [
    {
     "name": "stdout",
     "output_type": "stream",
     "text": [
      "height_cm                         0\n",
      "weight_kg                         0\n",
      "club_jersey_number                0\n",
      "preferred_foot                    0\n",
      "weak_foot                         0\n",
      "skill_moves                       0\n",
      "work_rate                         0\n",
      "body_type                         0\n",
      "player_tags                    6124\n",
      "player_traits                  2589\n",
      "pace                            631\n",
      "shooting                        631\n",
      "passing                         631\n",
      "dribbling                       631\n",
      "defending                       631\n",
      "physic                          631\n",
      "attacking_crossing                0\n",
      "attacking_finishing               0\n",
      "attacking_heading_accuracy        0\n",
      "attacking_short_passing           0\n",
      "attacking_volleys                 0\n",
      "skill_dribbling                   0\n",
      "skill_curve                       0\n",
      "skill_fk_accuracy                 0\n",
      "skill_long_passing                0\n",
      "skill_ball_control                0\n",
      "movement_acceleration             0\n",
      "movement_sprint_speed             0\n",
      "movement_agility                  0\n",
      "movement_reactions                0\n",
      "movement_balance                  0\n",
      "power_shot_power                  0\n",
      "power_jumping                     0\n",
      "power_stamina                     0\n",
      "power_strength                    0\n",
      "power_long_shots                  0\n",
      "mentality_aggression              0\n",
      "mentality_interceptions           0\n",
      "mentality_positioning             0\n",
      "mentality_vision                  0\n",
      "mentality_penalties               0\n",
      "mentality_composure               0\n",
      "defending_marking_awareness       0\n",
      "defending_standing_tackle         0\n",
      "defending_sliding_tackle          0\n",
      "goalkeeping_diving                0\n",
      "goalkeeping_handling              0\n",
      "goalkeeping_kicking               0\n",
      "goalkeeping_positioning           0\n",
      "goalkeeping_reflexes              0\n",
      "goalkeeping_speed              6264\n",
      "position                          0\n",
      "dtype: int64\n"
     ]
    }
   ],
   "source": [
    "missing_df = df.isnull().sum()\n",
    "print(missing_df)"
   ]
  },
  {
   "cell_type": "code",
   "execution_count": 36,
   "id": "b889da5d",
   "metadata": {},
   "outputs": [],
   "source": [
    "# dropping player tags as there are too many missing\n",
    "df = df.drop(columns=['player_tags'])"
   ]
  },
  {
   "cell_type": "markdown",
   "id": "a7cc998d",
   "metadata": {
    "id": "a7cc998d"
   },
   "source": [
    "### 1.1.2. Analysis of GOALKEEPING features"
   ]
  },
  {
   "cell_type": "code",
   "execution_count": 37,
   "id": "d6c03b2f",
   "metadata": {
    "id": "d6c03b2f"
   },
   "outputs": [],
   "source": [
    "df['goalkeeper_bool'] = np.where(df.goalkeeping_speed.isnull(), 0, 1)\n",
    "df = df.drop(columns=['goalkeeping_speed'])"
   ]
  },
  {
   "cell_type": "markdown",
   "id": "fbdef07b",
   "metadata": {},
   "source": [
    "Goalkeeping_speed is missing for all on-field players. We use this to creat a variable indicating whether a player is a goalkeeper or not. "
   ]
  },
  {
   "cell_type": "code",
   "execution_count": 38,
   "id": "rnznAp2Ijtei",
   "metadata": {
    "id": "rnznAp2Ijtei"
   },
   "outputs": [],
   "source": [
    "goalkeeping_attributes = ['goalkeeping_diving', 'goalkeeping_handling', 'goalkeeping_kicking',\n",
    "       'goalkeeping_positioning', 'goalkeeping_reflexes']"
   ]
  },
  {
   "cell_type": "code",
   "execution_count": 39,
   "id": "7e72abef",
   "metadata": {
    "colab": {
     "base_uri": "https://localhost:8080/",
     "height": 194
    },
    "id": "7e72abef",
    "outputId": "d37f1795-98e5-44be-f10c-b90ab3a522f3"
   },
   "outputs": [
    {
     "data": {
      "text/html": [
       "<div>\n",
       "<style scoped>\n",
       "    .dataframe tbody tr th:only-of-type {\n",
       "        vertical-align: middle;\n",
       "    }\n",
       "\n",
       "    .dataframe tbody tr th {\n",
       "        vertical-align: top;\n",
       "    }\n",
       "\n",
       "    .dataframe thead tr th {\n",
       "        text-align: left;\n",
       "    }\n",
       "\n",
       "    .dataframe thead tr:last-of-type th {\n",
       "        text-align: right;\n",
       "    }\n",
       "</style>\n",
       "<table border=\"1\" class=\"dataframe\">\n",
       "  <thead>\n",
       "    <tr>\n",
       "      <th></th>\n",
       "      <th colspan=\"4\" halign=\"left\">goalkeeping_diving</th>\n",
       "      <th colspan=\"4\" halign=\"left\">goalkeeping_handling</th>\n",
       "      <th colspan=\"4\" halign=\"left\">goalkeeping_kicking</th>\n",
       "      <th colspan=\"4\" halign=\"left\">goalkeeping_positioning</th>\n",
       "      <th colspan=\"4\" halign=\"left\">goalkeeping_reflexes</th>\n",
       "    </tr>\n",
       "    <tr>\n",
       "      <th></th>\n",
       "      <th>mean</th>\n",
       "      <th>min</th>\n",
       "      <th>max</th>\n",
       "      <th>median</th>\n",
       "      <th>mean</th>\n",
       "      <th>min</th>\n",
       "      <th>max</th>\n",
       "      <th>median</th>\n",
       "      <th>mean</th>\n",
       "      <th>min</th>\n",
       "      <th>max</th>\n",
       "      <th>median</th>\n",
       "      <th>mean</th>\n",
       "      <th>min</th>\n",
       "      <th>max</th>\n",
       "      <th>median</th>\n",
       "      <th>mean</th>\n",
       "      <th>min</th>\n",
       "      <th>max</th>\n",
       "      <th>median</th>\n",
       "    </tr>\n",
       "    <tr>\n",
       "      <th>goalkeeper_bool</th>\n",
       "      <th></th>\n",
       "      <th></th>\n",
       "      <th></th>\n",
       "      <th></th>\n",
       "      <th></th>\n",
       "      <th></th>\n",
       "      <th></th>\n",
       "      <th></th>\n",
       "      <th></th>\n",
       "      <th></th>\n",
       "      <th></th>\n",
       "      <th></th>\n",
       "      <th></th>\n",
       "      <th></th>\n",
       "      <th></th>\n",
       "      <th></th>\n",
       "      <th></th>\n",
       "      <th></th>\n",
       "      <th></th>\n",
       "      <th></th>\n",
       "    </tr>\n",
       "  </thead>\n",
       "  <tbody>\n",
       "    <tr>\n",
       "      <th>0</th>\n",
       "      <td>10.473020</td>\n",
       "      <td>2</td>\n",
       "      <td>32</td>\n",
       "      <td>10.0</td>\n",
       "      <td>10.488665</td>\n",
       "      <td>2</td>\n",
       "      <td>33</td>\n",
       "      <td>10.0</td>\n",
       "      <td>10.506066</td>\n",
       "      <td>2</td>\n",
       "      <td>38</td>\n",
       "      <td>11.0</td>\n",
       "      <td>10.492656</td>\n",
       "      <td>2</td>\n",
       "      <td>33</td>\n",
       "      <td>10.0</td>\n",
       "      <td>10.452107</td>\n",
       "      <td>2</td>\n",
       "      <td>37</td>\n",
       "      <td>10.0</td>\n",
       "    </tr>\n",
       "    <tr>\n",
       "      <th>1</th>\n",
       "      <td>69.744849</td>\n",
       "      <td>53</td>\n",
       "      <td>91</td>\n",
       "      <td>69.0</td>\n",
       "      <td>67.326466</td>\n",
       "      <td>51</td>\n",
       "      <td>92</td>\n",
       "      <td>67.0</td>\n",
       "      <td>65.716323</td>\n",
       "      <td>40</td>\n",
       "      <td>91</td>\n",
       "      <td>65.0</td>\n",
       "      <td>68.695721</td>\n",
       "      <td>48</td>\n",
       "      <td>92</td>\n",
       "      <td>68.0</td>\n",
       "      <td>71.107765</td>\n",
       "      <td>54</td>\n",
       "      <td>90</td>\n",
       "      <td>71.0</td>\n",
       "    </tr>\n",
       "  </tbody>\n",
       "</table>\n",
       "</div>"
      ],
      "text/plain": [
       "                goalkeeping_diving                goalkeeping_handling      \\\n",
       "                              mean min max median                 mean min   \n",
       "goalkeeper_bool                                                              \n",
       "0                        10.473020   2  32   10.0            10.488665   2   \n",
       "1                        69.744849  53  91   69.0            67.326466  51   \n",
       "\n",
       "                           goalkeeping_kicking                 \\\n",
       "                max median                mean min max median   \n",
       "goalkeeper_bool                                                 \n",
       "0                33   10.0           10.506066   2  38   11.0   \n",
       "1                92   67.0           65.716323  40  91   65.0   \n",
       "\n",
       "                goalkeeping_positioning                goalkeeping_reflexes  \\\n",
       "                                   mean min max median                 mean   \n",
       "goalkeeper_bool                                                               \n",
       "0                             10.492656   2  33   10.0            10.452107   \n",
       "1                             68.695721  48  92   68.0            71.107765   \n",
       "\n",
       "                                \n",
       "                min max median  \n",
       "goalkeeper_bool                 \n",
       "0                 2  37   10.0  \n",
       "1                54  90   71.0  "
      ]
     },
     "execution_count": 39,
     "metadata": {},
     "output_type": "execute_result"
    }
   ],
   "source": [
    "df.groupby('goalkeeper_bool')[goalkeeping_attributes].agg(['mean', 'min', 'max', 'median'])"
   ]
  },
  {
   "cell_type": "code",
   "execution_count": 40,
   "id": "0bcb5f8c",
   "metadata": {
    "colab": {
     "base_uri": "https://localhost:8080/",
     "height": 853
    },
    "id": "0bcb5f8c",
    "outputId": "c9022a47-4ecf-48d9-a2f6-ebcd53b7082b"
   },
   "outputs": [
    {
     "data": {
      "text/html": [
       "<div>\n",
       "<style scoped>\n",
       "    .dataframe tbody tr th:only-of-type {\n",
       "        vertical-align: middle;\n",
       "    }\n",
       "\n",
       "    .dataframe tbody tr th {\n",
       "        vertical-align: top;\n",
       "    }\n",
       "\n",
       "    .dataframe thead tr th {\n",
       "        text-align: left;\n",
       "    }\n",
       "\n",
       "    .dataframe thead tr:last-of-type th {\n",
       "        text-align: right;\n",
       "    }\n",
       "</style>\n",
       "<table border=\"1\" class=\"dataframe\">\n",
       "  <thead>\n",
       "    <tr>\n",
       "      <th></th>\n",
       "      <th colspan=\"4\" halign=\"left\">goalkeeping_diving</th>\n",
       "      <th colspan=\"4\" halign=\"left\">goalkeeping_handling</th>\n",
       "      <th colspan=\"4\" halign=\"left\">goalkeeping_kicking</th>\n",
       "      <th colspan=\"4\" halign=\"left\">goalkeeping_positioning</th>\n",
       "      <th colspan=\"4\" halign=\"left\">goalkeeping_reflexes</th>\n",
       "    </tr>\n",
       "    <tr>\n",
       "      <th></th>\n",
       "      <th>mean</th>\n",
       "      <th>min</th>\n",
       "      <th>max</th>\n",
       "      <th>median</th>\n",
       "      <th>mean</th>\n",
       "      <th>min</th>\n",
       "      <th>max</th>\n",
       "      <th>median</th>\n",
       "      <th>mean</th>\n",
       "      <th>min</th>\n",
       "      <th>max</th>\n",
       "      <th>median</th>\n",
       "      <th>mean</th>\n",
       "      <th>min</th>\n",
       "      <th>max</th>\n",
       "      <th>median</th>\n",
       "      <th>mean</th>\n",
       "      <th>min</th>\n",
       "      <th>max</th>\n",
       "      <th>median</th>\n",
       "    </tr>\n",
       "    <tr>\n",
       "      <th>position</th>\n",
       "      <th></th>\n",
       "      <th></th>\n",
       "      <th></th>\n",
       "      <th></th>\n",
       "      <th></th>\n",
       "      <th></th>\n",
       "      <th></th>\n",
       "      <th></th>\n",
       "      <th></th>\n",
       "      <th></th>\n",
       "      <th></th>\n",
       "      <th></th>\n",
       "      <th></th>\n",
       "      <th></th>\n",
       "      <th></th>\n",
       "      <th></th>\n",
       "      <th></th>\n",
       "      <th></th>\n",
       "      <th></th>\n",
       "      <th></th>\n",
       "    </tr>\n",
       "  </thead>\n",
       "  <tbody>\n",
       "    <tr>\n",
       "      <th>CAM</th>\n",
       "      <td>10.482890</td>\n",
       "      <td>4</td>\n",
       "      <td>16</td>\n",
       "      <td>10.0</td>\n",
       "      <td>10.224335</td>\n",
       "      <td>4</td>\n",
       "      <td>16</td>\n",
       "      <td>10.0</td>\n",
       "      <td>10.520913</td>\n",
       "      <td>4</td>\n",
       "      <td>16</td>\n",
       "      <td>11.0</td>\n",
       "      <td>10.296578</td>\n",
       "      <td>4</td>\n",
       "      <td>16</td>\n",
       "      <td>10.0</td>\n",
       "      <td>10.623574</td>\n",
       "      <td>4</td>\n",
       "      <td>16</td>\n",
       "      <td>11.0</td>\n",
       "    </tr>\n",
       "    <tr>\n",
       "      <th>CB</th>\n",
       "      <td>10.904192</td>\n",
       "      <td>5</td>\n",
       "      <td>16</td>\n",
       "      <td>11.0</td>\n",
       "      <td>10.718563</td>\n",
       "      <td>5</td>\n",
       "      <td>16</td>\n",
       "      <td>11.0</td>\n",
       "      <td>10.694611</td>\n",
       "      <td>5</td>\n",
       "      <td>30</td>\n",
       "      <td>10.0</td>\n",
       "      <td>10.832335</td>\n",
       "      <td>5</td>\n",
       "      <td>16</td>\n",
       "      <td>11.0</td>\n",
       "      <td>10.592814</td>\n",
       "      <td>6</td>\n",
       "      <td>16</td>\n",
       "      <td>11.0</td>\n",
       "    </tr>\n",
       "    <tr>\n",
       "      <th>CDM</th>\n",
       "      <td>10.317881</td>\n",
       "      <td>5</td>\n",
       "      <td>22</td>\n",
       "      <td>10.0</td>\n",
       "      <td>10.364238</td>\n",
       "      <td>5</td>\n",
       "      <td>22</td>\n",
       "      <td>10.0</td>\n",
       "      <td>10.496689</td>\n",
       "      <td>5</td>\n",
       "      <td>28</td>\n",
       "      <td>10.0</td>\n",
       "      <td>10.715232</td>\n",
       "      <td>3</td>\n",
       "      <td>24</td>\n",
       "      <td>11.0</td>\n",
       "      <td>10.463576</td>\n",
       "      <td>5</td>\n",
       "      <td>23</td>\n",
       "      <td>11.0</td>\n",
       "    </tr>\n",
       "    <tr>\n",
       "      <th>CM</th>\n",
       "      <td>10.653333</td>\n",
       "      <td>4</td>\n",
       "      <td>16</td>\n",
       "      <td>11.0</td>\n",
       "      <td>10.693333</td>\n",
       "      <td>5</td>\n",
       "      <td>16</td>\n",
       "      <td>10.0</td>\n",
       "      <td>10.573333</td>\n",
       "      <td>3</td>\n",
       "      <td>16</td>\n",
       "      <td>10.0</td>\n",
       "      <td>10.600000</td>\n",
       "      <td>4</td>\n",
       "      <td>16</td>\n",
       "      <td>11.0</td>\n",
       "      <td>10.466667</td>\n",
       "      <td>6</td>\n",
       "      <td>15</td>\n",
       "      <td>11.0</td>\n",
       "    </tr>\n",
       "    <tr>\n",
       "      <th>LB</th>\n",
       "      <td>10.507559</td>\n",
       "      <td>5</td>\n",
       "      <td>23</td>\n",
       "      <td>11.0</td>\n",
       "      <td>10.369330</td>\n",
       "      <td>5</td>\n",
       "      <td>17</td>\n",
       "      <td>10.0</td>\n",
       "      <td>10.455724</td>\n",
       "      <td>5</td>\n",
       "      <td>18</td>\n",
       "      <td>11.0</td>\n",
       "      <td>10.466523</td>\n",
       "      <td>3</td>\n",
       "      <td>23</td>\n",
       "      <td>11.0</td>\n",
       "      <td>10.598272</td>\n",
       "      <td>5</td>\n",
       "      <td>17</td>\n",
       "      <td>11.0</td>\n",
       "    </tr>\n",
       "    <tr>\n",
       "      <th>LCB</th>\n",
       "      <td>10.627575</td>\n",
       "      <td>3</td>\n",
       "      <td>19</td>\n",
       "      <td>11.0</td>\n",
       "      <td>10.416799</td>\n",
       "      <td>3</td>\n",
       "      <td>18</td>\n",
       "      <td>10.0</td>\n",
       "      <td>10.532488</td>\n",
       "      <td>3</td>\n",
       "      <td>18</td>\n",
       "      <td>11.0</td>\n",
       "      <td>10.678288</td>\n",
       "      <td>4</td>\n",
       "      <td>16</td>\n",
       "      <td>11.0</td>\n",
       "      <td>10.318542</td>\n",
       "      <td>3</td>\n",
       "      <td>16</td>\n",
       "      <td>10.0</td>\n",
       "    </tr>\n",
       "    <tr>\n",
       "      <th>LCM</th>\n",
       "      <td>10.425532</td>\n",
       "      <td>5</td>\n",
       "      <td>16</td>\n",
       "      <td>11.0</td>\n",
       "      <td>10.732861</td>\n",
       "      <td>5</td>\n",
       "      <td>16</td>\n",
       "      <td>11.0</td>\n",
       "      <td>10.304965</td>\n",
       "      <td>4</td>\n",
       "      <td>16</td>\n",
       "      <td>10.0</td>\n",
       "      <td>10.565012</td>\n",
       "      <td>5</td>\n",
       "      <td>16</td>\n",
       "      <td>11.0</td>\n",
       "      <td>10.286052</td>\n",
       "      <td>5</td>\n",
       "      <td>16</td>\n",
       "      <td>10.0</td>\n",
       "    </tr>\n",
       "    <tr>\n",
       "      <th>LDM</th>\n",
       "      <td>10.388060</td>\n",
       "      <td>2</td>\n",
       "      <td>16</td>\n",
       "      <td>10.0</td>\n",
       "      <td>10.651741</td>\n",
       "      <td>2</td>\n",
       "      <td>16</td>\n",
       "      <td>11.0</td>\n",
       "      <td>10.462687</td>\n",
       "      <td>2</td>\n",
       "      <td>18</td>\n",
       "      <td>11.0</td>\n",
       "      <td>10.343284</td>\n",
       "      <td>2</td>\n",
       "      <td>16</td>\n",
       "      <td>10.0</td>\n",
       "      <td>10.830846</td>\n",
       "      <td>2</td>\n",
       "      <td>16</td>\n",
       "      <td>11.0</td>\n",
       "    </tr>\n",
       "    <tr>\n",
       "      <th>LF</th>\n",
       "      <td>9.937500</td>\n",
       "      <td>3</td>\n",
       "      <td>15</td>\n",
       "      <td>10.5</td>\n",
       "      <td>10.312500</td>\n",
       "      <td>3</td>\n",
       "      <td>16</td>\n",
       "      <td>10.5</td>\n",
       "      <td>10.968750</td>\n",
       "      <td>3</td>\n",
       "      <td>15</td>\n",
       "      <td>11.5</td>\n",
       "      <td>9.812500</td>\n",
       "      <td>3</td>\n",
       "      <td>15</td>\n",
       "      <td>10.0</td>\n",
       "      <td>10.093750</td>\n",
       "      <td>3</td>\n",
       "      <td>16</td>\n",
       "      <td>10.5</td>\n",
       "    </tr>\n",
       "    <tr>\n",
       "      <th>LM</th>\n",
       "      <td>10.430894</td>\n",
       "      <td>4</td>\n",
       "      <td>18</td>\n",
       "      <td>10.0</td>\n",
       "      <td>10.349593</td>\n",
       "      <td>3</td>\n",
       "      <td>16</td>\n",
       "      <td>10.0</td>\n",
       "      <td>10.457995</td>\n",
       "      <td>5</td>\n",
       "      <td>16</td>\n",
       "      <td>11.0</td>\n",
       "      <td>10.715447</td>\n",
       "      <td>2</td>\n",
       "      <td>16</td>\n",
       "      <td>11.0</td>\n",
       "      <td>10.260163</td>\n",
       "      <td>4</td>\n",
       "      <td>16</td>\n",
       "      <td>10.0</td>\n",
       "    </tr>\n",
       "    <tr>\n",
       "      <th>LS</th>\n",
       "      <td>10.537313</td>\n",
       "      <td>5</td>\n",
       "      <td>29</td>\n",
       "      <td>10.0</td>\n",
       "      <td>10.711443</td>\n",
       "      <td>5</td>\n",
       "      <td>33</td>\n",
       "      <td>10.0</td>\n",
       "      <td>10.726368</td>\n",
       "      <td>5</td>\n",
       "      <td>27</td>\n",
       "      <td>11.0</td>\n",
       "      <td>10.676617</td>\n",
       "      <td>5</td>\n",
       "      <td>19</td>\n",
       "      <td>10.0</td>\n",
       "      <td>10.378109</td>\n",
       "      <td>5</td>\n",
       "      <td>34</td>\n",
       "      <td>10.0</td>\n",
       "    </tr>\n",
       "    <tr>\n",
       "      <th>LW</th>\n",
       "      <td>10.445783</td>\n",
       "      <td>5</td>\n",
       "      <td>16</td>\n",
       "      <td>10.0</td>\n",
       "      <td>10.331325</td>\n",
       "      <td>4</td>\n",
       "      <td>16</td>\n",
       "      <td>10.0</td>\n",
       "      <td>9.819277</td>\n",
       "      <td>5</td>\n",
       "      <td>16</td>\n",
       "      <td>9.0</td>\n",
       "      <td>10.524096</td>\n",
       "      <td>5</td>\n",
       "      <td>16</td>\n",
       "      <td>10.0</td>\n",
       "      <td>10.259036</td>\n",
       "      <td>5</td>\n",
       "      <td>16</td>\n",
       "      <td>10.0</td>\n",
       "    </tr>\n",
       "    <tr>\n",
       "      <th>LWB</th>\n",
       "      <td>10.461538</td>\n",
       "      <td>5</td>\n",
       "      <td>16</td>\n",
       "      <td>10.0</td>\n",
       "      <td>10.711538</td>\n",
       "      <td>5</td>\n",
       "      <td>16</td>\n",
       "      <td>11.0</td>\n",
       "      <td>10.096154</td>\n",
       "      <td>5</td>\n",
       "      <td>15</td>\n",
       "      <td>10.0</td>\n",
       "      <td>10.509615</td>\n",
       "      <td>5</td>\n",
       "      <td>16</td>\n",
       "      <td>11.0</td>\n",
       "      <td>10.250000</td>\n",
       "      <td>5</td>\n",
       "      <td>16</td>\n",
       "      <td>10.0</td>\n",
       "    </tr>\n",
       "    <tr>\n",
       "      <th>RB</th>\n",
       "      <td>10.380130</td>\n",
       "      <td>5</td>\n",
       "      <td>16</td>\n",
       "      <td>10.0</td>\n",
       "      <td>10.479482</td>\n",
       "      <td>5</td>\n",
       "      <td>19</td>\n",
       "      <td>10.0</td>\n",
       "      <td>10.585313</td>\n",
       "      <td>5</td>\n",
       "      <td>18</td>\n",
       "      <td>11.0</td>\n",
       "      <td>10.477322</td>\n",
       "      <td>4</td>\n",
       "      <td>18</td>\n",
       "      <td>10.0</td>\n",
       "      <td>10.414687</td>\n",
       "      <td>5</td>\n",
       "      <td>16</td>\n",
       "      <td>10.0</td>\n",
       "    </tr>\n",
       "    <tr>\n",
       "      <th>RCB</th>\n",
       "      <td>10.348653</td>\n",
       "      <td>2</td>\n",
       "      <td>32</td>\n",
       "      <td>10.0</td>\n",
       "      <td>10.567353</td>\n",
       "      <td>2</td>\n",
       "      <td>33</td>\n",
       "      <td>10.0</td>\n",
       "      <td>10.511886</td>\n",
       "      <td>3</td>\n",
       "      <td>38</td>\n",
       "      <td>11.0</td>\n",
       "      <td>10.342314</td>\n",
       "      <td>2</td>\n",
       "      <td>32</td>\n",
       "      <td>10.0</td>\n",
       "      <td>10.454834</td>\n",
       "      <td>3</td>\n",
       "      <td>34</td>\n",
       "      <td>10.0</td>\n",
       "    </tr>\n",
       "    <tr>\n",
       "      <th>RCM</th>\n",
       "      <td>10.841608</td>\n",
       "      <td>5</td>\n",
       "      <td>18</td>\n",
       "      <td>11.0</td>\n",
       "      <td>10.401891</td>\n",
       "      <td>4</td>\n",
       "      <td>18</td>\n",
       "      <td>10.0</td>\n",
       "      <td>10.553191</td>\n",
       "      <td>5</td>\n",
       "      <td>18</td>\n",
       "      <td>11.0</td>\n",
       "      <td>10.449173</td>\n",
       "      <td>4</td>\n",
       "      <td>18</td>\n",
       "      <td>10.0</td>\n",
       "      <td>10.394799</td>\n",
       "      <td>4</td>\n",
       "      <td>17</td>\n",
       "      <td>11.0</td>\n",
       "    </tr>\n",
       "    <tr>\n",
       "      <th>RDM</th>\n",
       "      <td>10.124378</td>\n",
       "      <td>3</td>\n",
       "      <td>16</td>\n",
       "      <td>10.0</td>\n",
       "      <td>10.980100</td>\n",
       "      <td>5</td>\n",
       "      <td>16</td>\n",
       "      <td>11.0</td>\n",
       "      <td>10.711443</td>\n",
       "      <td>3</td>\n",
       "      <td>18</td>\n",
       "      <td>11.0</td>\n",
       "      <td>10.477612</td>\n",
       "      <td>3</td>\n",
       "      <td>16</td>\n",
       "      <td>10.0</td>\n",
       "      <td>10.472637</td>\n",
       "      <td>5</td>\n",
       "      <td>16</td>\n",
       "      <td>10.0</td>\n",
       "    </tr>\n",
       "    <tr>\n",
       "      <th>RF</th>\n",
       "      <td>9.343750</td>\n",
       "      <td>6</td>\n",
       "      <td>14</td>\n",
       "      <td>8.5</td>\n",
       "      <td>10.500000</td>\n",
       "      <td>6</td>\n",
       "      <td>15</td>\n",
       "      <td>10.0</td>\n",
       "      <td>10.187500</td>\n",
       "      <td>5</td>\n",
       "      <td>15</td>\n",
       "      <td>10.0</td>\n",
       "      <td>10.156250</td>\n",
       "      <td>5</td>\n",
       "      <td>15</td>\n",
       "      <td>11.0</td>\n",
       "      <td>11.000000</td>\n",
       "      <td>5</td>\n",
       "      <td>15</td>\n",
       "      <td>12.0</td>\n",
       "    </tr>\n",
       "    <tr>\n",
       "      <th>RM</th>\n",
       "      <td>10.401084</td>\n",
       "      <td>5</td>\n",
       "      <td>16</td>\n",
       "      <td>10.0</td>\n",
       "      <td>10.216802</td>\n",
       "      <td>4</td>\n",
       "      <td>18</td>\n",
       "      <td>10.0</td>\n",
       "      <td>10.479675</td>\n",
       "      <td>5</td>\n",
       "      <td>16</td>\n",
       "      <td>10.0</td>\n",
       "      <td>10.379404</td>\n",
       "      <td>4</td>\n",
       "      <td>20</td>\n",
       "      <td>10.0</td>\n",
       "      <td>10.390244</td>\n",
       "      <td>5</td>\n",
       "      <td>19</td>\n",
       "      <td>10.0</td>\n",
       "    </tr>\n",
       "    <tr>\n",
       "      <th>RS</th>\n",
       "      <td>10.402985</td>\n",
       "      <td>5</td>\n",
       "      <td>27</td>\n",
       "      <td>10.0</td>\n",
       "      <td>10.427861</td>\n",
       "      <td>5</td>\n",
       "      <td>25</td>\n",
       "      <td>10.0</td>\n",
       "      <td>10.502488</td>\n",
       "      <td>5</td>\n",
       "      <td>31</td>\n",
       "      <td>11.0</td>\n",
       "      <td>10.293532</td>\n",
       "      <td>5</td>\n",
       "      <td>33</td>\n",
       "      <td>10.0</td>\n",
       "      <td>10.736318</td>\n",
       "      <td>5</td>\n",
       "      <td>37</td>\n",
       "      <td>11.0</td>\n",
       "    </tr>\n",
       "    <tr>\n",
       "      <th>RW</th>\n",
       "      <td>10.439759</td>\n",
       "      <td>5</td>\n",
       "      <td>16</td>\n",
       "      <td>11.0</td>\n",
       "      <td>10.210843</td>\n",
       "      <td>4</td>\n",
       "      <td>16</td>\n",
       "      <td>10.0</td>\n",
       "      <td>10.506024</td>\n",
       "      <td>5</td>\n",
       "      <td>16</td>\n",
       "      <td>10.5</td>\n",
       "      <td>10.036145</td>\n",
       "      <td>5</td>\n",
       "      <td>19</td>\n",
       "      <td>10.0</td>\n",
       "      <td>10.518072</td>\n",
       "      <td>3</td>\n",
       "      <td>18</td>\n",
       "      <td>11.0</td>\n",
       "    </tr>\n",
       "    <tr>\n",
       "      <th>RWB</th>\n",
       "      <td>11.192308</td>\n",
       "      <td>6</td>\n",
       "      <td>19</td>\n",
       "      <td>11.0</td>\n",
       "      <td>10.259615</td>\n",
       "      <td>6</td>\n",
       "      <td>16</td>\n",
       "      <td>10.0</td>\n",
       "      <td>10.317308</td>\n",
       "      <td>5</td>\n",
       "      <td>16</td>\n",
       "      <td>10.0</td>\n",
       "      <td>10.432692</td>\n",
       "      <td>5</td>\n",
       "      <td>16</td>\n",
       "      <td>10.0</td>\n",
       "      <td>10.817308</td>\n",
       "      <td>5</td>\n",
       "      <td>17</td>\n",
       "      <td>10.5</td>\n",
       "    </tr>\n",
       "    <tr>\n",
       "      <th>ST</th>\n",
       "      <td>10.303738</td>\n",
       "      <td>2</td>\n",
       "      <td>19</td>\n",
       "      <td>10.0</td>\n",
       "      <td>10.696262</td>\n",
       "      <td>2</td>\n",
       "      <td>17</td>\n",
       "      <td>11.0</td>\n",
       "      <td>10.775701</td>\n",
       "      <td>2</td>\n",
       "      <td>20</td>\n",
       "      <td>11.0</td>\n",
       "      <td>10.588785</td>\n",
       "      <td>4</td>\n",
       "      <td>16</td>\n",
       "      <td>11.0</td>\n",
       "      <td>10.509346</td>\n",
       "      <td>2</td>\n",
       "      <td>16</td>\n",
       "      <td>10.0</td>\n",
       "    </tr>\n",
       "  </tbody>\n",
       "</table>\n",
       "</div>"
      ],
      "text/plain": [
       "         goalkeeping_diving                goalkeeping_handling          \\\n",
       "                       mean min max median                 mean min max   \n",
       "position                                                                  \n",
       "CAM               10.482890   4  16   10.0            10.224335   4  16   \n",
       "CB                10.904192   5  16   11.0            10.718563   5  16   \n",
       "CDM               10.317881   5  22   10.0            10.364238   5  22   \n",
       "CM                10.653333   4  16   11.0            10.693333   5  16   \n",
       "LB                10.507559   5  23   11.0            10.369330   5  17   \n",
       "LCB               10.627575   3  19   11.0            10.416799   3  18   \n",
       "LCM               10.425532   5  16   11.0            10.732861   5  16   \n",
       "LDM               10.388060   2  16   10.0            10.651741   2  16   \n",
       "LF                 9.937500   3  15   10.5            10.312500   3  16   \n",
       "LM                10.430894   4  18   10.0            10.349593   3  16   \n",
       "LS                10.537313   5  29   10.0            10.711443   5  33   \n",
       "LW                10.445783   5  16   10.0            10.331325   4  16   \n",
       "LWB               10.461538   5  16   10.0            10.711538   5  16   \n",
       "RB                10.380130   5  16   10.0            10.479482   5  19   \n",
       "RCB               10.348653   2  32   10.0            10.567353   2  33   \n",
       "RCM               10.841608   5  18   11.0            10.401891   4  18   \n",
       "RDM               10.124378   3  16   10.0            10.980100   5  16   \n",
       "RF                 9.343750   6  14    8.5            10.500000   6  15   \n",
       "RM                10.401084   5  16   10.0            10.216802   4  18   \n",
       "RS                10.402985   5  27   10.0            10.427861   5  25   \n",
       "RW                10.439759   5  16   11.0            10.210843   4  16   \n",
       "RWB               11.192308   6  19   11.0            10.259615   6  16   \n",
       "ST                10.303738   2  19   10.0            10.696262   2  17   \n",
       "\n",
       "                goalkeeping_kicking                goalkeeping_positioning  \\\n",
       "         median                mean min max median                    mean   \n",
       "position                                                                     \n",
       "CAM        10.0           10.520913   4  16   11.0               10.296578   \n",
       "CB         11.0           10.694611   5  30   10.0               10.832335   \n",
       "CDM        10.0           10.496689   5  28   10.0               10.715232   \n",
       "CM         10.0           10.573333   3  16   10.0               10.600000   \n",
       "LB         10.0           10.455724   5  18   11.0               10.466523   \n",
       "LCB        10.0           10.532488   3  18   11.0               10.678288   \n",
       "LCM        11.0           10.304965   4  16   10.0               10.565012   \n",
       "LDM        11.0           10.462687   2  18   11.0               10.343284   \n",
       "LF         10.5           10.968750   3  15   11.5                9.812500   \n",
       "LM         10.0           10.457995   5  16   11.0               10.715447   \n",
       "LS         10.0           10.726368   5  27   11.0               10.676617   \n",
       "LW         10.0            9.819277   5  16    9.0               10.524096   \n",
       "LWB        11.0           10.096154   5  15   10.0               10.509615   \n",
       "RB         10.0           10.585313   5  18   11.0               10.477322   \n",
       "RCB        10.0           10.511886   3  38   11.0               10.342314   \n",
       "RCM        10.0           10.553191   5  18   11.0               10.449173   \n",
       "RDM        11.0           10.711443   3  18   11.0               10.477612   \n",
       "RF         10.0           10.187500   5  15   10.0               10.156250   \n",
       "RM         10.0           10.479675   5  16   10.0               10.379404   \n",
       "RS         10.0           10.502488   5  31   11.0               10.293532   \n",
       "RW         10.0           10.506024   5  16   10.5               10.036145   \n",
       "RWB        10.0           10.317308   5  16   10.0               10.432692   \n",
       "ST         11.0           10.775701   2  20   11.0               10.588785   \n",
       "\n",
       "                        goalkeeping_reflexes                 \n",
       "         min max median                 mean min max median  \n",
       "position                                                     \n",
       "CAM        4  16   10.0            10.623574   4  16   11.0  \n",
       "CB         5  16   11.0            10.592814   6  16   11.0  \n",
       "CDM        3  24   11.0            10.463576   5  23   11.0  \n",
       "CM         4  16   11.0            10.466667   6  15   11.0  \n",
       "LB         3  23   11.0            10.598272   5  17   11.0  \n",
       "LCB        4  16   11.0            10.318542   3  16   10.0  \n",
       "LCM        5  16   11.0            10.286052   5  16   10.0  \n",
       "LDM        2  16   10.0            10.830846   2  16   11.0  \n",
       "LF         3  15   10.0            10.093750   3  16   10.5  \n",
       "LM         2  16   11.0            10.260163   4  16   10.0  \n",
       "LS         5  19   10.0            10.378109   5  34   10.0  \n",
       "LW         5  16   10.0            10.259036   5  16   10.0  \n",
       "LWB        5  16   11.0            10.250000   5  16   10.0  \n",
       "RB         4  18   10.0            10.414687   5  16   10.0  \n",
       "RCB        2  32   10.0            10.454834   3  34   10.0  \n",
       "RCM        4  18   10.0            10.394799   4  17   11.0  \n",
       "RDM        3  16   10.0            10.472637   5  16   10.0  \n",
       "RF         5  15   11.0            11.000000   5  15   12.0  \n",
       "RM         4  20   10.0            10.390244   5  19   10.0  \n",
       "RS         5  33   10.0            10.736318   5  37   11.0  \n",
       "RW         5  19   10.0            10.518072   3  18   11.0  \n",
       "RWB        5  16   10.0            10.817308   5  17   10.5  \n",
       "ST         4  16   11.0            10.509346   2  16   10.0  "
      ]
     },
     "execution_count": 40,
     "metadata": {},
     "output_type": "execute_result"
    }
   ],
   "source": [
    "df_players = df[df.goalkeeper_bool == 0]\n",
    "df_players.groupby('position')[goalkeeping_attributes].agg(['mean', 'min', 'max', 'median'])"
   ]
  },
  {
   "cell_type": "markdown",
   "id": "916ac03c",
   "metadata": {
    "id": "916ac03c"
   },
   "source": [
    "Seeing that there is no differentiation among different types of (non-goalkeeper) players in these features, we decide to drop these columns. We keep only a binary column ('goalkeeper_bool') that will be 1 for goalkeepers as a distinction among goalkeepers and the rest of player types."
   ]
  },
  {
   "cell_type": "code",
   "execution_count": 41,
   "id": "eda12ef5",
   "metadata": {
    "id": "eda12ef5"
   },
   "outputs": [],
   "source": [
    "df.drop(goalkeeping_attributes, axis=1, inplace=True)"
   ]
  },
  {
   "cell_type": "markdown",
   "id": "V-czunAKkong",
   "metadata": {
    "id": "V-czunAKkong"
   },
   "source": [
    "### 1.1.3. Exploring other ambiguous columns"
   ]
  },
  {
   "cell_type": "code",
   "execution_count": 42,
   "id": "nREP69KJk-yZ",
   "metadata": {
    "colab": {
     "base_uri": "https://localhost:8080/",
     "height": 1000
    },
    "id": "nREP69KJk-yZ",
    "outputId": "504b9a20-ec6e-4d08-e32a-f2b00ed9cb81"
   },
   "outputs": [
    {
     "ename": "NameError",
     "evalue": "name 'plt' is not defined",
     "output_type": "error",
     "traceback": [
      "\u001b[1;31m---------------------------------------------------------------------------\u001b[0m",
      "\u001b[1;31mNameError\u001b[0m                                 Traceback (most recent call last)",
      "Cell \u001b[1;32mIn[42], line 5\u001b[0m\n\u001b[0;32m      2\u001b[0m players_positions_list \u001b[38;5;241m=\u001b[39m df_players\u001b[38;5;241m.\u001b[39mposition\u001b[38;5;241m.\u001b[39munique()\u001b[38;5;241m.\u001b[39mtolist()\n\u001b[0;32m      4\u001b[0m \u001b[38;5;66;03m# Set up the figure for multiple subplots\u001b[39;00m\n\u001b[1;32m----> 5\u001b[0m plt\u001b[38;5;241m.\u001b[39mfigure(figsize\u001b[38;5;241m=\u001b[39m(\u001b[38;5;241m15\u001b[39m, \u001b[38;5;241m25\u001b[39m))\n\u001b[0;32m      7\u001b[0m work_rate_order \u001b[38;5;241m=\u001b[39m [\u001b[38;5;124m'\u001b[39m\u001b[38;5;124mLow/Low\u001b[39m\u001b[38;5;124m'\u001b[39m, \u001b[38;5;124m'\u001b[39m\u001b[38;5;124mLow/Medium\u001b[39m\u001b[38;5;124m'\u001b[39m, \u001b[38;5;124m'\u001b[39m\u001b[38;5;124mLow/High\u001b[39m\u001b[38;5;124m'\u001b[39m,\n\u001b[0;32m      8\u001b[0m                    \u001b[38;5;124m'\u001b[39m\u001b[38;5;124mMedium/Low\u001b[39m\u001b[38;5;124m'\u001b[39m, \u001b[38;5;124m'\u001b[39m\u001b[38;5;124mMedium/Medium\u001b[39m\u001b[38;5;124m'\u001b[39m, \u001b[38;5;124m'\u001b[39m\u001b[38;5;124mMedium/High\u001b[39m\u001b[38;5;124m'\u001b[39m,\n\u001b[0;32m      9\u001b[0m                    \u001b[38;5;124m'\u001b[39m\u001b[38;5;124mHigh/Low\u001b[39m\u001b[38;5;124m'\u001b[39m, \u001b[38;5;124m'\u001b[39m\u001b[38;5;124mHigh/Medium\u001b[39m\u001b[38;5;124m'\u001b[39m, \u001b[38;5;124m'\u001b[39m\u001b[38;5;124mHigh/High\u001b[39m\u001b[38;5;124m'\u001b[39m]\n\u001b[0;32m     11\u001b[0m \u001b[38;5;28;01mfor\u001b[39;00m i, position \u001b[38;5;129;01min\u001b[39;00m \u001b[38;5;28menumerate\u001b[39m(players_positions_list, \u001b[38;5;241m1\u001b[39m):\n",
      "\u001b[1;31mNameError\u001b[0m: name 'plt' is not defined"
     ]
    }
   ],
   "source": [
    "## WORK_RATE\n",
    "players_positions_list = df_players.position.unique().tolist()\n",
    "\n",
    "# Set up the figure for multiple subplots\n",
    "plt.figure(figsize=(15, 25))\n",
    "\n",
    "work_rate_order = ['Low/Low', 'Low/Medium', 'Low/High',\n",
    "                   'Medium/Low', 'Medium/Medium', 'Medium/High',\n",
    "                   'High/Low', 'High/Medium', 'High/High']\n",
    "\n",
    "for i, position in enumerate(players_positions_list, 1):\n",
    "  plt.subplot(6, 4, i)\n",
    "  position_df = df_players[df_players['position'] == position]\n",
    "  work_rate_counts = position_df['work_rate'].value_counts().reindex(work_rate_order, fill_value=0)\n",
    "  work_rate_counts.plot(kind='bar', color='deeppink')\n",
    "  plt.title(f'Work Rate distribution for {position}')\n",
    "  plt.xlabel('work_rate')\n",
    "  plt.ylabel('count')\n",
    "  plt.xticks(rotation=45)\n",
    "\n",
    "plt.tight_layout()\n",
    "plt.show()"
   ]
  },
  {
   "cell_type": "markdown",
   "id": "cMTXgHFbQ5ou",
   "metadata": {
    "id": "cMTXgHFbQ5ou"
   },
   "source": [
    "Distribution is very similar for all positions, so we drop it."
   ]
  },
  {
   "cell_type": "code",
   "execution_count": 43,
   "id": "36f2bf86",
   "metadata": {
    "id": "36f2bf86"
   },
   "outputs": [],
   "source": [
    "df = df.drop('work_rate', axis=1)"
   ]
  },
  {
   "cell_type": "markdown",
   "id": "AISrqOrQof2C",
   "metadata": {
    "id": "AISrqOrQof2C"
   },
   "source": [
    "## 1.2. Feature Engineering"
   ]
  },
  {
   "cell_type": "markdown",
   "id": "V4zZzDGteqBh",
   "metadata": {
    "id": "V4zZzDGteqBh"
   },
   "source": [
    "### 1.2.1. Ability columns\n",
    "'pace', 'shooting', 'passing', 'dribbling', 'defending', 'physic'"
   ]
  },
  {
   "cell_type": "code",
   "execution_count": 44,
   "id": "fW6LnezEksO2",
   "metadata": {
    "colab": {
     "base_uri": "https://localhost:8080/",
     "height": 1000
    },
    "id": "fW6LnezEksO2",
    "outputId": "6bcc8cbe-1839-41dc-ec25-bef747dc2912"
   },
   "outputs": [
    {
     "ename": "NameError",
     "evalue": "name 'plt' is not defined",
     "output_type": "error",
     "traceback": [
      "\u001b[1;31m---------------------------------------------------------------------------\u001b[0m",
      "\u001b[1;31mNameError\u001b[0m                                 Traceback (most recent call last)",
      "Cell \u001b[1;32mIn[44], line 5\u001b[0m\n\u001b[0;32m      2\u001b[0m abilities_list \u001b[38;5;241m=\u001b[39m [\u001b[38;5;124m'\u001b[39m\u001b[38;5;124mpace\u001b[39m\u001b[38;5;124m'\u001b[39m, \u001b[38;5;124m'\u001b[39m\u001b[38;5;124mshooting\u001b[39m\u001b[38;5;124m'\u001b[39m, \u001b[38;5;124m'\u001b[39m\u001b[38;5;124mpassing\u001b[39m\u001b[38;5;124m'\u001b[39m, \u001b[38;5;124m'\u001b[39m\u001b[38;5;124mdribbling\u001b[39m\u001b[38;5;124m'\u001b[39m, \u001b[38;5;124m'\u001b[39m\u001b[38;5;124mdefending\u001b[39m\u001b[38;5;124m'\u001b[39m, \u001b[38;5;124m'\u001b[39m\u001b[38;5;124mphysic\u001b[39m\u001b[38;5;124m'\u001b[39m]\n\u001b[0;32m      4\u001b[0m \u001b[38;5;66;03m# Set up the figure for multiple subplots\u001b[39;00m\n\u001b[1;32m----> 5\u001b[0m plt\u001b[38;5;241m.\u001b[39mfigure(figsize\u001b[38;5;241m=\u001b[39m(\u001b[38;5;241m15\u001b[39m, \u001b[38;5;241m18\u001b[39m))\n\u001b[0;32m      6\u001b[0m \u001b[38;5;28;01mfor\u001b[39;00m i, ability \u001b[38;5;129;01min\u001b[39;00m \u001b[38;5;28menumerate\u001b[39m(abilities_list, \u001b[38;5;241m1\u001b[39m):\n\u001b[0;32m      7\u001b[0m     plt\u001b[38;5;241m.\u001b[39msubplot(\u001b[38;5;241m3\u001b[39m, \u001b[38;5;241m2\u001b[39m, i)\n",
      "\u001b[1;31mNameError\u001b[0m: name 'plt' is not defined"
     ]
    }
   ],
   "source": [
    "# List of abilities to plot\n",
    "abilities_list = ['pace', 'shooting', 'passing', 'dribbling', 'defending', 'physic']\n",
    "\n",
    "# Set up the figure for multiple subplots\n",
    "plt.figure(figsize=(15, 18))\n",
    "for i, ability in enumerate(abilities_list, 1):\n",
    "    plt.subplot(3, 2, i)\n",
    "    sns.boxplot(data=df, x='position', y=ability)\n",
    "    plt.xticks(rotation=90)\n",
    "    plt.title(f'Distribution of {ability.upper()} by Position')\n",
    "\n",
    "plt.tight_layout()\n",
    "plt.show()"
   ]
  },
  {
   "cell_type": "markdown",
   "id": "8ba516d9",
   "metadata": {},
   "source": [
    "These attributes are differently disributed accross positions and will be relevant for the classification task."
   ]
  },
  {
   "cell_type": "markdown",
   "id": "lDjnedrGE54O",
   "metadata": {
    "id": "lDjnedrGE54O"
   },
   "source": [
    "Exploring possible correlations between the following ability attributes, to potentially create combined variables.\n",
    "\n",
    "*   pace\n",
    "*   shooting\n",
    "*   passing\n",
    "*   dribbling\n",
    "*   defending\n",
    "*   physic\n",
    "\n",
    "\n",
    "\n",
    "\n",
    "\n",
    "\n"
   ]
  },
  {
   "cell_type": "markdown",
   "id": "5KINuhCciJfE",
   "metadata": {
    "id": "5KINuhCciJfE"
   },
   "source": [
    "### 1.2.2. Exploring Correlation among Numerical Columns\n",
    "\n"
   ]
  },
  {
   "cell_type": "markdown",
   "id": "e0cd9b24",
   "metadata": {},
   "source": [
    "We make lists of strongly related columns to visualize their correlations. These are the selected groups that showed a strong correlation (see in the heatmaps below), after looking at the correlation among all numerical columns.  "
   ]
  },
  {
   "cell_type": "code",
   "execution_count": 45,
   "id": "HEV6w88Nqvct",
   "metadata": {
    "id": "HEV6w88Nqvct"
   },
   "outputs": [],
   "source": [
    "speed_skills = ['movement_acceleration',\n",
    "    'movement_sprint_speed', 'pace', 'movement_agility']\n",
    "\n",
    "attacking_skills = ['shooting', 'attacking_finishing', 'attacking_volleys']\n",
    "\n",
    "dribbling_skills = ['dribbling', 'attacking_crossing', 'skill_ball_control',\n",
    "                  'skill_curve','skill_dribbling']\n",
    "\n",
    "defense_skills = ['defending_marking_awareness', 'defending_standing_tackle',\n",
    "    'defending_sliding_tackle', 'defending', 'mentality_interceptions']\n",
    "\n",
    "passing_skills = ['passing', 'attacking_short_passing',\n",
    "    'skill_long_passing', 'mentality_vision']"
   ]
  },
  {
   "cell_type": "code",
   "execution_count": 17,
   "id": "xCHE1UfuihIG",
   "metadata": {
    "colab": {
     "base_uri": "https://localhost:8080/",
     "height": 895
    },
    "id": "xCHE1UfuihIG",
    "outputId": "a2ac9b4a-4814-4aa2-f923-f520351f533f"
   },
   "outputs": [
    {
     "ename": "NameError",
     "evalue": "name 'plt' is not defined",
     "output_type": "error",
     "traceback": [
      "\u001b[1;31m---------------------------------------------------------------------------\u001b[0m",
      "\u001b[1;31mNameError\u001b[0m                                 Traceback (most recent call last)",
      "Cell \u001b[1;32mIn[17], line 9\u001b[0m\n\u001b[0;32m      1\u001b[0m column_sets \u001b[38;5;241m=\u001b[39m {\n\u001b[0;32m      2\u001b[0m     \u001b[38;5;124m'\u001b[39m\u001b[38;5;124mSpeed Skills\u001b[39m\u001b[38;5;124m'\u001b[39m: speed_skills,\n\u001b[0;32m      3\u001b[0m     \u001b[38;5;124m'\u001b[39m\u001b[38;5;124mAttacking Skills\u001b[39m\u001b[38;5;124m'\u001b[39m: attacking_skills,\n\u001b[1;32m   (...)\u001b[0m\n\u001b[0;32m      6\u001b[0m     \u001b[38;5;124m'\u001b[39m\u001b[38;5;124mDribbling Skills\u001b[39m\u001b[38;5;124m'\u001b[39m: dribbling_skills,\n\u001b[0;32m      7\u001b[0m }\n\u001b[1;32m----> 9\u001b[0m plt\u001b[38;5;241m.\u001b[39mfigure(figsize\u001b[38;5;241m=\u001b[39m(\u001b[38;5;241m15\u001b[39m, \u001b[38;5;241m15\u001b[39m))\n\u001b[0;32m     11\u001b[0m \u001b[38;5;28;01mfor\u001b[39;00m i, (group_name, columns) \u001b[38;5;129;01min\u001b[39;00m \u001b[38;5;28menumerate\u001b[39m(column_sets\u001b[38;5;241m.\u001b[39mitems(), \u001b[38;5;241m1\u001b[39m):\n\u001b[0;32m     12\u001b[0m     correlation_matrix \u001b[38;5;241m=\u001b[39m df[columns]\u001b[38;5;241m.\u001b[39mcorr()\n",
      "\u001b[1;31mNameError\u001b[0m: name 'plt' is not defined"
     ]
    }
   ],
   "source": [
    "column_sets = {\n",
    "    'Speed Skills': speed_skills,\n",
    "    'Attacking Skills': attacking_skills,\n",
    "    'Passing Skills': passing_skills,\n",
    "    'Defense Skills': defense_skills,\n",
    "    'Dribbling Skills': dribbling_skills,\n",
    "}\n",
    "\n",
    "plt.figure(figsize=(15, 15))\n",
    "\n",
    "for i, (group_name, columns) in enumerate(column_sets.items(), 1):\n",
    "    correlation_matrix = df[columns].corr()\n",
    "\n",
    "    plt.subplot(3, 2, i)\n",
    "    sns.heatmap(correlation_matrix, annot=True, cmap='coolwarm', vmin=0, vmax=1.0)\n",
    "    plt.title(f'Correlation heatmap for {group_name.upper()}')\n",
    "\n",
    "plt.tight_layout()\n",
    "plt.show()"
   ]
  },
  {
   "cell_type": "markdown",
   "id": "a207eb8d",
   "metadata": {},
   "source": [
    "Seeing this, we join highly correlated columns in a resulting column that will be an average of their values. Reducing the number of variables will be helpful in avoiding makeing the model too complex."
   ]
  },
  {
   "cell_type": "code",
   "execution_count": 46,
   "id": "GO3Hqu_zilYn",
   "metadata": {
    "id": "GO3Hqu_zilYn"
   },
   "outputs": [],
   "source": [
    "df['defense'] = df[defense_skills].mean(axis=1)\n",
    "df.drop(defense_skills, axis=1, inplace=True)\n",
    "\n",
    "df['attack'] = df[attacking_skills].mean(axis=1)\n",
    "df.drop(attacking_skills, axis=1, inplace=True)\n",
    "\n",
    "df['drib_skill'] = df[passing_skills].mean(axis=1)\n",
    "df.drop(passing_skills, axis=1, inplace=True)\n",
    "\n",
    "df['speed'] = df[speed_skills].mean(axis=1)\n",
    "df.drop(speed_skills, axis=1, inplace=True)"
   ]
  },
  {
   "cell_type": "code",
   "execution_count": 47,
   "id": "MIxFeVh9H90H",
   "metadata": {
    "colab": {
     "base_uri": "https://localhost:8080/"
    },
    "id": "MIxFeVh9H90H",
    "outputId": "c68dd271-4510-4bc4-99db-b32c9cfac0b5"
   },
   "outputs": [
    {
     "name": "stdout",
     "output_type": "stream",
     "text": [
      "COLUMNS LEFT:\n"
     ]
    },
    {
     "data": {
      "text/plain": [
       "Index(['height_cm', 'weight_kg', 'club_jersey_number', 'preferred_foot',\n",
       "       'weak_foot', 'skill_moves', 'body_type', 'player_traits', 'dribbling',\n",
       "       'physic', 'attacking_crossing', 'attacking_heading_accuracy',\n",
       "       'skill_dribbling', 'skill_curve', 'skill_fk_accuracy',\n",
       "       'skill_ball_control', 'movement_reactions', 'movement_balance',\n",
       "       'power_shot_power', 'power_jumping', 'power_stamina', 'power_strength',\n",
       "       'power_long_shots', 'mentality_aggression', 'mentality_positioning',\n",
       "       'mentality_penalties', 'mentality_composure', 'position',\n",
       "       'goalkeeper_bool', 'defense', 'attack', 'drib_skill', 'speed'],\n",
       "      dtype='object')"
      ]
     },
     "execution_count": 47,
     "metadata": {},
     "output_type": "execute_result"
    }
   ],
   "source": [
    "print('COLUMNS LEFT:')\n",
    "df.columns"
   ]
  },
  {
   "cell_type": "markdown",
   "id": "7qRSoKypjqSa",
   "metadata": {
    "id": "7qRSoKypjqSa"
   },
   "source": [
    "### 1.2.3. Correlation among non-numerical columns"
   ]
  },
  {
   "cell_type": "code",
   "execution_count": 48,
   "id": "423LtWeoH-3S",
   "metadata": {
    "colab": {
     "base_uri": "https://localhost:8080/"
    },
    "id": "423LtWeoH-3S",
    "outputId": "76b37819-e0e4-44e6-eb09-a26967f8917b"
   },
   "outputs": [
    {
     "data": {
      "text/plain": [
       "Index(['preferred_foot', 'body_type', 'player_traits', 'position'], dtype='object')"
      ]
     },
     "execution_count": 48,
     "metadata": {},
     "output_type": "execute_result"
    }
   ],
   "source": [
    "categorical_columns = df.select_dtypes(include=['object']).columns\n",
    "categorical_columns"
   ]
  },
  {
   "cell_type": "code",
   "execution_count": 49,
   "id": "m12XOdsNt0_P",
   "metadata": {
    "colab": {
     "base_uri": "https://localhost:8080/"
    },
    "id": "m12XOdsNt0_P",
    "outputId": "ac2d9c84-4398-4c2f-aa97-d3ab794172bc"
   },
   "outputs": [
    {
     "name": "stdout",
     "output_type": "stream",
     "text": [
      "[5 3 2 4 1]\n",
      "['Right' 'Left']\n"
     ]
    }
   ],
   "source": [
    "print(df.weak_foot.unique())\n",
    "print(df.preferred_foot.unique())"
   ]
  },
  {
   "cell_type": "code",
   "execution_count": 50,
   "id": "owyjpi_EuBsu",
   "metadata": {
    "colab": {
     "base_uri": "https://localhost:8080/",
     "height": 112
    },
    "id": "owyjpi_EuBsu",
    "outputId": "8da50cfc-7535-472f-d464-167886c08283"
   },
   "outputs": [
    {
     "data": {
      "text/html": [
       "<div>\n",
       "<style scoped>\n",
       "    .dataframe tbody tr th:only-of-type {\n",
       "        vertical-align: middle;\n",
       "    }\n",
       "\n",
       "    .dataframe tbody tr th {\n",
       "        vertical-align: top;\n",
       "    }\n",
       "\n",
       "    .dataframe thead th {\n",
       "        text-align: right;\n",
       "    }\n",
       "</style>\n",
       "<table border=\"1\" class=\"dataframe\">\n",
       "  <thead>\n",
       "    <tr style=\"text-align: right;\">\n",
       "      <th></th>\n",
       "      <th>right_foot_bool</th>\n",
       "      <th>weak_foot</th>\n",
       "    </tr>\n",
       "  </thead>\n",
       "  <tbody>\n",
       "    <tr>\n",
       "      <th>right_foot_bool</th>\n",
       "      <td>1.000000</td>\n",
       "      <td>0.124037</td>\n",
       "    </tr>\n",
       "    <tr>\n",
       "      <th>weak_foot</th>\n",
       "      <td>0.124037</td>\n",
       "      <td>1.000000</td>\n",
       "    </tr>\n",
       "  </tbody>\n",
       "</table>\n",
       "</div>"
      ],
      "text/plain": [
       "                 right_foot_bool  weak_foot\n",
       "right_foot_bool         1.000000   0.124037\n",
       "weak_foot               0.124037   1.000000"
      ]
     },
     "execution_count": 50,
     "metadata": {},
     "output_type": "execute_result"
    }
   ],
   "source": [
    "df['right_foot_bool'] = np.where(df.preferred_foot == 'Right', 1, 0)\n",
    "df[['right_foot_bool', 'weak_foot']].corr()"
   ]
  },
  {
   "cell_type": "code",
   "execution_count": 22,
   "id": "xlnfSI1TwLUp",
   "metadata": {
    "colab": {
     "base_uri": "https://localhost:8080/",
     "height": 1000
    },
    "id": "xlnfSI1TwLUp",
    "outputId": "1d3d70aa-7d0e-4cbc-e3c9-d322c85e9aca"
   },
   "outputs": [
    {
     "data": {
      "image/png": "[encoded data removed]",
      "text/plain": [
       "<Figure size 1500x2500 with 24 Axes>"
      ]
     },
     "metadata": {},
     "output_type": "display_data"
    }
   ],
   "source": [
    "players_positions_list = df.position.unique().tolist()\n",
    "\n",
    "plt.figure(figsize=(15, 25))\n",
    "\n",
    "for i, position in enumerate(players_positions_list, 1):\n",
    "  plt.subplot(6, 4, i)\n",
    "  position_df = df[df['position'] == position]\n",
    "  work_rate_counts = position_df['weak_foot'].value_counts().reindex([1, 2, 3, 4, 5], fill_value=0)\n",
    "  work_rate_counts.plot(kind='bar', color='deeppink')\n",
    "  plt.title(f'Weak Foot distribution for {position}')\n",
    "  plt.xlabel('weak_foot')\n",
    "  plt.ylabel('count')\n",
    "  plt.xticks(rotation=45)\n",
    "\n",
    "plt.tight_layout()\n",
    "plt.show()"
   ]
  },
  {
   "cell_type": "markdown",
   "id": "ea19453e",
   "metadata": {},
   "source": [
    "Most players in every position have a weak foot = 3 but the distribution of weak foot > 3 is different accros positions so we create a variable indicating whether a player has weak foot > 3."
   ]
  },
  {
   "cell_type": "code",
   "execution_count": 51,
   "id": "5a066d7d",
   "metadata": {},
   "outputs": [],
   "source": [
    "df['strong_weak_foot'] = (df['weak_foot'] >= 4).astype(int)\n",
    "df = df.drop(columns=['weak_foot'])"
   ]
  },
  {
   "cell_type": "markdown",
   "id": "8b989f7f",
   "metadata": {},
   "source": [
    "### Some more feature engineering\n"
   ]
  },
  {
   "cell_type": "markdown",
   "id": "e35cfbe4",
   "metadata": {},
   "source": [
    "Next we encode player traits as these contain information about the player's likely position."
   ]
  },
  {
   "cell_type": "code",
   "execution_count": 52,
   "id": "3c46aed3",
   "metadata": {},
   "outputs": [],
   "source": [
    "# Define the mapping of traits to defensive, center, wing  or attacking skills\n",
    "traits_mapping = {\n",
    "    \"Chip Shot (AI)\": [0, 0, 1, 1],\n",
    "    \"Dives Into Tackles (AI)\": [1, 0, 0,0],\n",
    "    \"Early Crosser\": [0, 0, 1, 1],\n",
    "    \"Finesse Shot\": [0, 0, 1, 1],\n",
    "    \"Flair\": [0, 0, 1, 1],\n",
    "    \"Giant Throw-in\": [1, 0, 1, 0],\n",
    "    \"Injury Prone\": [0, 0, 0,0],\n",
    "    \"Leadership\": [0, 0, 0, 0],\n",
    "    \"Long Passer (AI)\": [1, 1,0, 0],\n",
    "    \"Long Shot Taker (AI)\": [0, 1, 0, 0],\n",
    "    \"Long Throw-in\": [1, 0, 1, 0],\n",
    "    \"One Club Player\": [0, 0, 0, 0],\n",
    "    \"Outside Foot Shot\": [0, 0, 1, 1],\n",
    "    \"Playmaker (AI)\": [0, 1, 0, 0],\n",
    "    \"Power Free-Kick\": [0, 1, 0, 1],\n",
    "    \"Power Header\": [1, 0, 0, 1],\n",
    "    \"Solid Player\": [0, 1, 0, 0],\n",
    "    \"Speed Dribbler (AI)\": [0, 0, 1, 0],\n",
    "    \"Team Player\": [0, 1, 0, 0],\n",
    "    \"Technical Dribbler (AI)\": [0, 1, 1 ,0],\n",
    "}\n",
    "\n",
    "# Fill missing values in 'player_traits' with empty strings\n",
    "df['player_traits'] = df['player_traits'].fillna('')\n",
    "\n",
    "# Initialize the new columns with 0\n",
    "df['defensive_player_traits'] = 0\n",
    "df['midfield_player_traits'] = 0\n",
    "df['wing_player_traits'] = 0\n",
    "df['attack_player_traits'] = 0\n",
    "\n",
    "# Iterate over the rows and update the new columns based on the traits\n",
    "for index, traits in df['player_traits'].items():  # Use .items() instead of .iteritems()\n",
    "    for trait in traits.split(','):\n",
    "        trait = trait.strip()  # Remove extra whitespace\n",
    "        if trait in traits_mapping:\n",
    "            df.at[index, 'defensive_player_traits'] = max(df.at[index, 'defensive_player_traits'], traits_mapping[trait][0])\n",
    "            df.at[index, 'midfield_player_traits'] = max(df.at[index, 'midfield_player_traits'], traits_mapping[trait][1])\n",
    "            df.at[index, 'wing_player_traits'] = max(df.at[index, 'wing_player_traits'], traits_mapping[trait][2])\n",
    "            df.at[index, 'attack_player_traits'] = max(df.at[index, 'attack_player_traits'], traits_mapping[trait][3])\n",
    "# Dropping column\n",
    "df = df.drop(columns=['player_traits'])"
   ]
  },
  {
   "cell_type": "code",
   "execution_count": 53,
   "id": "5a7ba755",
   "metadata": {},
   "outputs": [
    {
     "name": "stdout",
     "output_type": "stream",
     "text": [
      "CURRENT COLUMNS:\n"
     ]
    },
    {
     "data": {
      "text/plain": [
       "Index(['height_cm', 'weight_kg', 'club_jersey_number', 'preferred_foot',\n",
       "       'skill_moves', 'body_type', 'dribbling', 'physic', 'attacking_crossing',\n",
       "       'attacking_heading_accuracy', 'skill_dribbling', 'skill_curve',\n",
       "       'skill_fk_accuracy', 'skill_ball_control', 'movement_reactions',\n",
       "       'movement_balance', 'power_shot_power', 'power_jumping',\n",
       "       'power_stamina', 'power_strength', 'power_long_shots',\n",
       "       'mentality_aggression', 'mentality_positioning', 'mentality_penalties',\n",
       "       'mentality_composure', 'position', 'goalkeeper_bool', 'defense',\n",
       "       'attack', 'drib_skill', 'speed', 'right_foot_bool', 'strong_weak_foot',\n",
       "       'defensive_player_traits', 'midfield_player_traits',\n",
       "       'wing_player_traits', 'attack_player_traits'],\n",
       "      dtype='object')"
      ]
     },
     "execution_count": 53,
     "metadata": {},
     "output_type": "execute_result"
    }
   ],
   "source": [
    "print('CURRENT COLUMNS:')\n",
    "df.columns"
   ]
  },
  {
   "cell_type": "code",
   "execution_count": 55,
   "id": "7fd2aa43",
   "metadata": {},
   "outputs": [
    {
     "name": "stdout",
     "output_type": "stream",
     "text": [
      "[1 0]\n"
     ]
    }
   ],
   "source": [
    "print(df.right_foot_bool.unique())"
   ]
  },
  {
   "cell_type": "code",
   "execution_count": 59,
   "id": "41cc5d58",
   "metadata": {},
   "outputs": [],
   "source": [
    "# Create interaction terms to identify right and left wingers\n",
    "df['righ_foot_speed'] = df['right_foot_bool']*df['speed']\n",
    "\n",
    "df = df.drop('preferred_foot', axis=1)"
   ]
  },
  {
   "cell_type": "markdown",
   "id": "BCeheBGCFepL",
   "metadata": {
    "id": "BCeheBGCFepL"
   },
   "source": [
    "There also seems to be no difference in the pattern of these values across different positions, so this column can be droped."
   ]
  },
  {
   "cell_type": "markdown",
   "id": "6f502116",
   "metadata": {},
   "source": [
    "# 2. Model Selection"
   ]
  },
  {
   "cell_type": "code",
   "execution_count": 56,
   "id": "76c29980",
   "metadata": {},
   "outputs": [],
   "source": [
    "# set up\n",
    "from sklearn.model_selection import train_test_split\n",
    "from sklearn.compose import ColumnTransformer\n",
    "from sklearn.impute import SimpleImputer\n",
    "from sklearn.linear_model import LogisticRegression\n",
    "from sklearn.pipeline import Pipeline, make_pipeline\n",
    "from sklearn.preprocessing import OneHotEncoder, StandardScaler, OrdinalEncoder\n",
    "from sklearn.metrics import f1_score, classification_report"
   ]
  },
  {
   "cell_type": "markdown",
   "id": "105a6669",
   "metadata": {},
   "source": [
    "## 2.1 Creating test set "
   ]
  },
  {
   "cell_type": "code",
   "execution_count": 60,
   "id": "12be3682",
   "metadata": {},
   "outputs": [],
   "source": [
    "X = df.drop('position', axis=1)\n",
    "y = df['position']\n",
    "\n",
    "# stratified split to ensure class balance\n",
    "X_train, X_test, y_train, y_test = train_test_split(X, y, test_size=0.2, random_state=42, stratify=y)\n"
   ]
  },
  {
   "cell_type": "code",
   "execution_count": 61,
   "id": "46f5cfaa",
   "metadata": {},
   "outputs": [
    {
     "name": "stdout",
     "output_type": "stream",
     "text": [
      "Numerical Columns: ['height_cm', 'weight_kg', 'club_jersey_number', 'skill_moves', 'dribbling', 'physic', 'attacking_crossing', 'attacking_heading_accuracy', 'skill_dribbling', 'skill_curve', 'skill_fk_accuracy', 'skill_ball_control', 'movement_reactions', 'movement_balance', 'power_shot_power', 'power_jumping', 'power_stamina', 'power_strength', 'power_long_shots', 'mentality_aggression', 'mentality_positioning', 'mentality_penalties', 'mentality_composure', 'goalkeeper_bool', 'defense', 'attack', 'drib_skill', 'speed', 'right_foot_bool', 'strong_weak_foot', 'defensive_player_traits', 'midfield_player_traits', 'wing_player_traits', 'attack_player_traits', 'righ_foot_speed']\n",
      "Categorial Columns: ['body_type']\n"
     ]
    }
   ],
   "source": [
    "# Select numerical columns from the DataFrame\n",
    "numerical_columns = X.select_dtypes(include=['int64', 'float64']).columns.tolist()\n",
    "\n",
    "# Display the updated list of numerical columns\n",
    "print(\"Numerical Columns:\", numerical_columns)\n",
    "\n",
    "### select categorial columns\n",
    "categorical_columns = X.select_dtypes(include=[object]).columns.tolist()\n",
    "print(\"Categorial Columns:\", categorical_columns)"
   ]
  },
  {
   "cell_type": "code",
   "execution_count": 62,
   "id": "c3eacc5a",
   "metadata": {},
   "outputs": [
    {
     "data": {
      "text/plain": [
       "height_cm                       0\n",
       "weight_kg                       0\n",
       "club_jersey_number              0\n",
       "skill_moves                     0\n",
       "body_type                       0\n",
       "dribbling                     505\n",
       "physic                        505\n",
       "attacking_crossing              0\n",
       "attacking_heading_accuracy      0\n",
       "skill_dribbling                 0\n",
       "skill_curve                     0\n",
       "skill_fk_accuracy               0\n",
       "skill_ball_control              0\n",
       "movement_reactions              0\n",
       "movement_balance                0\n",
       "power_shot_power                0\n",
       "power_jumping                   0\n",
       "power_stamina                   0\n",
       "power_strength                  0\n",
       "power_long_shots                0\n",
       "mentality_aggression            0\n",
       "mentality_positioning           0\n",
       "mentality_penalties             0\n",
       "mentality_composure             0\n",
       "goalkeeper_bool                 0\n",
       "defense                         0\n",
       "attack                          0\n",
       "drib_skill                      0\n",
       "speed                           0\n",
       "right_foot_bool                 0\n",
       "strong_weak_foot                0\n",
       "defensive_player_traits         0\n",
       "midfield_player_traits          0\n",
       "wing_player_traits              0\n",
       "attack_player_traits            0\n",
       "righ_foot_speed                 0\n",
       "dtype: int64"
      ]
     },
     "execution_count": 62,
     "metadata": {},
     "output_type": "execute_result"
    }
   ],
   "source": [
    "X_train.isnull().sum()"
   ]
  },
  {
   "cell_type": "markdown",
   "id": "71180058",
   "metadata": {},
   "source": [
    "There are still missing values in some columns corresponding to goalkeepers. These can be imputed with the mean now that the data has been split, in order to not distort the distribution. We can perfectly identify goalkeepers anyway."
   ]
  },
  {
   "cell_type": "markdown",
   "id": "be96596b",
   "metadata": {},
   "source": [
    "## 2.2 Defining Preprocesser"
   ]
  },
  {
   "cell_type": "code",
   "execution_count": 63,
   "id": "433a090e",
   "metadata": {},
   "outputs": [],
   "source": [
    "## Scaling to make variables comparable , mean imputation for goalkeepers' missing values\n",
    "\n",
    "numercial_preprocesser = Pipeline(\n",
    "    steps=[\n",
    "        (\"imputation_mean\", SimpleImputer(missing_values=np.nan, strategy=\"mean\")),\n",
    "        (\"scaler\", StandardScaler()),\n",
    "    ]\n",
    ")\n",
    "\n",
    "# ordinal encoding categorials\n",
    "categorical_preprocessor = Pipeline(\n",
    "    steps=[\n",
    "        (\"ordinal\", OrdinalEncoder()),\n",
    "    ]\n",
    ")\n",
    "\n",
    "# combine both in preprocessor\n",
    "preprocessor = ColumnTransformer(\n",
    "    [\n",
    "        (\"categorical\", categorical_preprocessor, categorical_columns),\n",
    "        (\"numerical\", numercial_preprocesser, numerical_columns),\n",
    "    ]\n",
    ")\n"
   ]
  },
  {
   "cell_type": "markdown",
   "id": "2032d0cd",
   "metadata": {},
   "source": [
    "## 2.3 Base Line Model - Logistic Regression"
   ]
  },
  {
   "cell_type": "code",
   "execution_count": 25,
   "id": "0c811e8f",
   "metadata": {},
   "outputs": [],
   "source": [
    "pipe = make_pipeline(preprocessor, LogisticRegression(max_iter=10000))\n",
    "\n",
    "# Fit the pipeline to your training data\n",
    "pipe.fit(X_train, y_train)\n",
    "\n",
    "# Make predictions on the test set\n",
    "predictions = pipe.predict(X_test)"
   ]
  },
  {
   "cell_type": "code",
   "execution_count": 26,
   "id": "22600fe2",
   "metadata": {},
   "outputs": [
    {
     "name": "stdout",
     "output_type": "stream",
     "text": [
      "F1 Score (weighted): 0.42\n"
     ]
    }
   ],
   "source": [
    "f1 = f1_score(y_test, predictions, average='weighted')\n",
    "\n",
    "print(f\"F1 Score (weighted): {f1:.2f}\")"
   ]
  },
  {
   "cell_type": "markdown",
   "id": "33e030a2",
   "metadata": {},
   "source": [
    "## 2.4 Model Selection : Logistic Regression with SMOTE and GridSearch F-1 Optimization"
   ]
  },
  {
   "cell_type": "code",
   "execution_count": 27,
   "id": "aa7cb32b",
   "metadata": {},
   "outputs": [],
   "source": [
    "# Apply the preprocessor defined in Pipe to X_train and X_test\n",
    "X_train_processed = preprocessor.fit_transform(X_train)\n",
    "X_test = preprocessor.fit_transform(X_test)\n",
    "\n",
    "# Convert back to DataFrame (optional)\n",
    "X_train_processed = pd.DataFrame(X_train_processed, columns=preprocessor.get_feature_names_out())\n",
    "X_test = pd.DataFrame(X_test, columns=preprocessor.get_feature_names_out())"
   ]
  },
  {
   "cell_type": "markdown",
   "id": "ac2466af",
   "metadata": {},
   "source": [
    "Perfrom SMOTE Resampling to better handle class imbalances"
   ]
  },
  {
   "cell_type": "code",
   "execution_count": 32,
   "id": "f71a89c9",
   "metadata": {},
   "outputs": [
    {
     "name": "stdout",
     "output_type": "stream",
     "text": [
      "Before SMOTE: Counter({'GK': 505, 'LCB': 505, 'RCB': 505, 'LB': 370, 'RB': 370, 'ST': 342, 'LCM': 338, 'RCM': 338, 'LM': 295, 'RM': 295, 'CAM': 210, 'RDM': 161, 'LDM': 161, 'LS': 161, 'RS': 161, 'CB': 134, 'RW': 133, 'LW': 133, 'CDM': 121, 'RWB': 83, 'LWB': 83, 'CM': 60, 'LF': 26, 'RF': 26})\n",
      "After SMOTE: Counter({'LCM': 505, 'LB': 505, 'RW': 505, 'GK': 505, 'CDM': 505, 'ST': 505, 'RDM': 505, 'LDM': 505, 'CB': 505, 'LCB': 505, 'LW': 505, 'LM': 505, 'RCM': 505, 'RB': 505, 'LS': 505, 'RS': 505, 'RCB': 505, 'RM': 505, 'CAM': 505, 'RWB': 505, 'CM': 505, 'LF': 505, 'LWB': 505, 'RF': 505})\n"
     ]
    }
   ],
   "source": [
    "from imblearn.over_sampling import SMOTE\n",
    "from sklearn.model_selection import train_test_split\n",
    "from sklearn.preprocessing import StandardScaler\n",
    "\n",
    "# Initialize SMOTE\n",
    "smote = SMOTE(random_state=42)\n",
    "\n",
    "# Apply SMOTE to the training set\n",
    "X_train_resampled, y_train_resampled = smote.fit_resample(X_train_processed, y_train)\n",
    "\n",
    "# Check the class distribution after SMOTE\n",
    "from collections import Counter\n",
    "print(\"Before SMOTE:\", Counter(y_train))  # Original class distribution\n",
    "print(\"After SMOTE:\", Counter(y_train_resampled))  # Balanced class distribution"
   ]
  },
  {
   "cell_type": "markdown",
   "id": "1f1cc6ba",
   "metadata": {},
   "source": [
    "## 2.4 Model Selection - Logistic Regression with SMOTE and GridSearch F-1 Optimization"
   ]
  },
  {
   "cell_type": "code",
   "execution_count": 42,
   "id": "c325e263",
   "metadata": {},
   "outputs": [
    {
     "name": "stdout",
     "output_type": "stream",
     "text": [
      "Fitting 5 folds for each of 8 candidates, totalling 40 fits\n",
      "Best Hyperparameters: {'C': 10, 'class_weight': None, 'penalty': 'l2', 'solver': 'lbfgs'}\n",
      "Optimized Weighted F1 Score: 0.3718\n"
     ]
    },
    {
     "name": "stderr",
     "output_type": "stream",
     "text": [
      "c:\\Users\\Blanca\\anaconda3\\Lib\\site-packages\\sklearn\\linear_model\\_logistic.py:469: ConvergenceWarning: lbfgs failed to converge (status=1):\n",
      "STOP: TOTAL NO. of ITERATIONS REACHED LIMIT.\n",
      "\n",
      "Increase the number of iterations (max_iter) or scale the data as shown in:\n",
      "    https://scikit-learn.org/stable/modules/preprocessing.html\n",
      "Please also refer to the documentation for alternative solver options:\n",
      "    https://scikit-learn.org/stable/modules/linear_model.html#logistic-regression\n",
      "  n_iter_i = _check_optimize_result(\n"
     ]
    }
   ],
   "source": [
    "from sklearn.linear_model import LogisticRegression\n",
    "from sklearn.model_selection import GridSearchCV\n",
    "from sklearn.metrics import classification_report, f1_score\n",
    "\n",
    "# Define the logistic regression model\n",
    "logreg = LogisticRegression(random_state=42)\n",
    "\n",
    "param_grid = {\n",
    "    'C': [0.01, 0.1, 1, 10, 100],\n",
    "    'penalty': ['l2', 'none'],\n",
    "    'solver': ['lbfgs', 'saga'],\n",
    "    'multi_class': ['multinomial'],\n",
    "    'class_weight': [None, 'balanced'],\n",
    "    'max_iter': [100, 200, 300]\n",
    "}\n",
    "# Define hyperparameter grid\n",
    "param_grid = {\n",
    "    'C': [0.01, 0.1, 1, 10],  # Regularization strength\n",
    "    'solver': ['liblinear', 'lbfgs'],  # Different solvers for optimization\n",
    "    'penalty': ['l2'],  # Regularization penalty (l1 requires specific solvers)\n",
    "    'class_weight': [None]  # Handling class imbalance\n",
    "}\n",
    "# Import necessary libraries\n",
    "from sklearn.linear_model import LogisticRegression\n",
    "from sklearn.model_selection import GridSearchCV\n",
    "\n",
    "# Define the parameter grid\n",
    "\n",
    "\n",
    "grid_search = GridSearchCV(\n",
    "    estimator=logreg,\n",
    "    param_grid=param_grid,\n",
    "    scoring='f1_weighted',  \n",
    "    cv=5,  # 5-fold cross-validation\n",
    "    n_jobs=-1,  # Utilize all available cores\n",
    "    verbose=2,\n",
    "    return_train_score=True)\n",
    "\n",
    "# Fit GridSearchCV on the resampled training data\n",
    "grid_search.fit(X_train_resampled, y_train_resampled)\n",
    "\n",
    "# Best hyperparameters\n",
    "print(\"Best Hyperparameters:\", grid_search.best_params_)\n",
    "\n",
    "# Evaluate the optimized model on the test set\n",
    "best_logreg = grid_search.best_estimator_\n",
    "y_pred = best_logreg.predict(X_test)\n",
    "\n",
    "# Calculate and print weighted F1 score\n",
    "weighted_f1 = f1_score(y_test, y_pred, average='weighted')\n",
    "print(f\"Optimized Weighted F1 Score: {weighted_f1:.4f}\")\n"
   ]
  },
  {
   "cell_type": "markdown",
   "id": "880e3444",
   "metadata": {},
   "source": [
    "There seems to be no improvement to the baseline logistic regression. The SMOTE resampling seems to have made prediction worse.\n",
    "Next we are trying gridsearch on the logistic regression on original test set."
   ]
  },
  {
   "cell_type": "markdown",
   "id": "6394a49d",
   "metadata": {},
   "source": [
    "## 2.5 Model Selection - Logistic Regression without SMOTE and GridSearch F-1 Optimization"
   ]
  },
  {
   "cell_type": "code",
   "execution_count": 66,
   "id": "ef597663",
   "metadata": {},
   "outputs": [
    {
     "name": "stdout",
     "output_type": "stream",
     "text": [
      "Fitting 5 folds for each of 8 candidates, totalling 40 fits\n"
     ]
    },
    {
     "name": "stderr",
     "output_type": "stream",
     "text": [
      "c:\\Users\\Blanca\\anaconda3\\Lib\\site-packages\\sklearn\\linear_model\\_logistic.py:469: ConvergenceWarning: lbfgs failed to converge (status=1):\n",
      "STOP: TOTAL NO. of ITERATIONS REACHED LIMIT.\n",
      "\n",
      "Increase the number of iterations (max_iter) or scale the data as shown in:\n",
      "    https://scikit-learn.org/stable/modules/preprocessing.html\n",
      "Please also refer to the documentation for alternative solver options:\n",
      "    https://scikit-learn.org/stable/modules/linear_model.html#logistic-regression\n",
      "  n_iter_i = _check_optimize_result(\n"
     ]
    },
    {
     "name": "stdout",
     "output_type": "stream",
     "text": [
      "Best Hyperparameters: {'C': 10, 'class_weight': None, 'penalty': 'l2', 'solver': 'lbfgs'}\n"
     ]
    },
    {
     "ename": "ValueError",
     "evalue": "The feature names should match those that were passed during fit.\nFeature names unseen at fit time:\n- attack\n- attack_player_traits\n- attacking_crossing\n- attacking_heading_accuracy\n- body_type\n- ...\nFeature names seen at fit time, yet now missing:\n- categorical__body_type\n- categorical__preferred_foot\n- numerical__attack\n- numerical__attack_player_traits\n- numerical__attacking_crossing\n- ...\n",
     "output_type": "error",
     "traceback": [
      "\u001b[1;31m---------------------------------------------------------------------------\u001b[0m",
      "\u001b[1;31mValueError\u001b[0m                                Traceback (most recent call last)",
      "Cell \u001b[1;32mIn[66], line 45\u001b[0m\n\u001b[0;32m     43\u001b[0m \u001b[38;5;66;03m# Evaluate the optimized model on the test set\u001b[39;00m\n\u001b[0;32m     44\u001b[0m best_logreg \u001b[38;5;241m=\u001b[39m grid_search\u001b[38;5;241m.\u001b[39mbest_estimator_\n\u001b[1;32m---> 45\u001b[0m y_pred \u001b[38;5;241m=\u001b[39m best_logreg\u001b[38;5;241m.\u001b[39mpredict(X_test)\n\u001b[0;32m     47\u001b[0m \u001b[38;5;66;03m# Calculate and print weighted F1 score\u001b[39;00m\n\u001b[0;32m     48\u001b[0m weighted_f1 \u001b[38;5;241m=\u001b[39m f1_score(y_test, y_pred, average\u001b[38;5;241m=\u001b[39m\u001b[38;5;124m'\u001b[39m\u001b[38;5;124mweighted\u001b[39m\u001b[38;5;124m'\u001b[39m)\n",
      "File \u001b[1;32mc:\\Users\\Blanca\\anaconda3\\Lib\\site-packages\\sklearn\\linear_model\\_base.py:351\u001b[0m, in \u001b[0;36mLinearClassifierMixin.predict\u001b[1;34m(self, X)\u001b[0m\n\u001b[0;32m    337\u001b[0m \u001b[38;5;250m\u001b[39m\u001b[38;5;124;03m\"\"\"\u001b[39;00m\n\u001b[0;32m    338\u001b[0m \u001b[38;5;124;03mPredict class labels for samples in X.\u001b[39;00m\n\u001b[0;32m    339\u001b[0m \n\u001b[1;32m   (...)\u001b[0m\n\u001b[0;32m    348\u001b[0m \u001b[38;5;124;03m    Vector containing the class labels for each sample.\u001b[39;00m\n\u001b[0;32m    349\u001b[0m \u001b[38;5;124;03m\"\"\"\u001b[39;00m\n\u001b[0;32m    350\u001b[0m xp, _ \u001b[38;5;241m=\u001b[39m get_namespace(X)\n\u001b[1;32m--> 351\u001b[0m scores \u001b[38;5;241m=\u001b[39m \u001b[38;5;28mself\u001b[39m\u001b[38;5;241m.\u001b[39mdecision_function(X)\n\u001b[0;32m    352\u001b[0m \u001b[38;5;28;01mif\u001b[39;00m \u001b[38;5;28mlen\u001b[39m(scores\u001b[38;5;241m.\u001b[39mshape) \u001b[38;5;241m==\u001b[39m \u001b[38;5;241m1\u001b[39m:\n\u001b[0;32m    353\u001b[0m     indices \u001b[38;5;241m=\u001b[39m xp\u001b[38;5;241m.\u001b[39mastype(scores \u001b[38;5;241m>\u001b[39m \u001b[38;5;241m0\u001b[39m, \u001b[38;5;28mint\u001b[39m)\n",
      "File \u001b[1;32mc:\\Users\\Blanca\\anaconda3\\Lib\\site-packages\\sklearn\\linear_model\\_base.py:332\u001b[0m, in \u001b[0;36mLinearClassifierMixin.decision_function\u001b[1;34m(self, X)\u001b[0m\n\u001b[0;32m    329\u001b[0m check_is_fitted(\u001b[38;5;28mself\u001b[39m)\n\u001b[0;32m    330\u001b[0m xp, _ \u001b[38;5;241m=\u001b[39m get_namespace(X)\n\u001b[1;32m--> 332\u001b[0m X \u001b[38;5;241m=\u001b[39m \u001b[38;5;28mself\u001b[39m\u001b[38;5;241m.\u001b[39m_validate_data(X, accept_sparse\u001b[38;5;241m=\u001b[39m\u001b[38;5;124m\"\u001b[39m\u001b[38;5;124mcsr\u001b[39m\u001b[38;5;124m\"\u001b[39m, reset\u001b[38;5;241m=\u001b[39m\u001b[38;5;28;01mFalse\u001b[39;00m)\n\u001b[0;32m    333\u001b[0m scores \u001b[38;5;241m=\u001b[39m safe_sparse_dot(X, \u001b[38;5;28mself\u001b[39m\u001b[38;5;241m.\u001b[39mcoef_\u001b[38;5;241m.\u001b[39mT, dense_output\u001b[38;5;241m=\u001b[39m\u001b[38;5;28;01mTrue\u001b[39;00m) \u001b[38;5;241m+\u001b[39m \u001b[38;5;28mself\u001b[39m\u001b[38;5;241m.\u001b[39mintercept_\n\u001b[0;32m    334\u001b[0m \u001b[38;5;28;01mreturn\u001b[39;00m xp\u001b[38;5;241m.\u001b[39mreshape(scores, (\u001b[38;5;241m-\u001b[39m\u001b[38;5;241m1\u001b[39m,)) \u001b[38;5;28;01mif\u001b[39;00m scores\u001b[38;5;241m.\u001b[39mshape[\u001b[38;5;241m1\u001b[39m] \u001b[38;5;241m==\u001b[39m \u001b[38;5;241m1\u001b[39m \u001b[38;5;28;01melse\u001b[39;00m scores\n",
      "File \u001b[1;32mc:\\Users\\Blanca\\anaconda3\\Lib\\site-packages\\sklearn\\base.py:608\u001b[0m, in \u001b[0;36mBaseEstimator._validate_data\u001b[1;34m(self, X, y, reset, validate_separately, cast_to_ndarray, **check_params)\u001b[0m\n\u001b[0;32m    537\u001b[0m \u001b[38;5;28;01mdef\u001b[39;00m \u001b[38;5;21m_validate_data\u001b[39m(\n\u001b[0;32m    538\u001b[0m     \u001b[38;5;28mself\u001b[39m,\n\u001b[0;32m    539\u001b[0m     X\u001b[38;5;241m=\u001b[39m\u001b[38;5;124m\"\u001b[39m\u001b[38;5;124mno_validation\u001b[39m\u001b[38;5;124m\"\u001b[39m,\n\u001b[1;32m   (...)\u001b[0m\n\u001b[0;32m    544\u001b[0m     \u001b[38;5;241m*\u001b[39m\u001b[38;5;241m*\u001b[39mcheck_params,\n\u001b[0;32m    545\u001b[0m ):\n\u001b[0;32m    546\u001b[0m \u001b[38;5;250m    \u001b[39m\u001b[38;5;124;03m\"\"\"Validate input data and set or check the `n_features_in_` attribute.\u001b[39;00m\n\u001b[0;32m    547\u001b[0m \n\u001b[0;32m    548\u001b[0m \u001b[38;5;124;03m    Parameters\u001b[39;00m\n\u001b[1;32m   (...)\u001b[0m\n\u001b[0;32m    606\u001b[0m \u001b[38;5;124;03m        validated.\u001b[39;00m\n\u001b[0;32m    607\u001b[0m \u001b[38;5;124;03m    \"\"\"\u001b[39;00m\n\u001b[1;32m--> 608\u001b[0m     \u001b[38;5;28mself\u001b[39m\u001b[38;5;241m.\u001b[39m_check_feature_names(X, reset\u001b[38;5;241m=\u001b[39mreset)\n\u001b[0;32m    610\u001b[0m     \u001b[38;5;28;01mif\u001b[39;00m y \u001b[38;5;129;01mis\u001b[39;00m \u001b[38;5;28;01mNone\u001b[39;00m \u001b[38;5;129;01mand\u001b[39;00m \u001b[38;5;28mself\u001b[39m\u001b[38;5;241m.\u001b[39m_get_tags()[\u001b[38;5;124m\"\u001b[39m\u001b[38;5;124mrequires_y\u001b[39m\u001b[38;5;124m\"\u001b[39m]:\n\u001b[0;32m    611\u001b[0m         \u001b[38;5;28;01mraise\u001b[39;00m \u001b[38;5;167;01mValueError\u001b[39;00m(\n\u001b[0;32m    612\u001b[0m             \u001b[38;5;124mf\u001b[39m\u001b[38;5;124m\"\u001b[39m\u001b[38;5;124mThis \u001b[39m\u001b[38;5;132;01m{\u001b[39;00m\u001b[38;5;28mself\u001b[39m\u001b[38;5;241m.\u001b[39m\u001b[38;5;18m__class__\u001b[39m\u001b[38;5;241m.\u001b[39m\u001b[38;5;18m__name__\u001b[39m\u001b[38;5;132;01m}\u001b[39;00m\u001b[38;5;124m estimator \u001b[39m\u001b[38;5;124m\"\u001b[39m\n\u001b[0;32m    613\u001b[0m             \u001b[38;5;124m\"\u001b[39m\u001b[38;5;124mrequires y to be passed, but the target y is None.\u001b[39m\u001b[38;5;124m\"\u001b[39m\n\u001b[0;32m    614\u001b[0m         )\n",
      "File \u001b[1;32mc:\\Users\\Blanca\\anaconda3\\Lib\\site-packages\\sklearn\\base.py:535\u001b[0m, in \u001b[0;36mBaseEstimator._check_feature_names\u001b[1;34m(self, X, reset)\u001b[0m\n\u001b[0;32m    530\u001b[0m \u001b[38;5;28;01mif\u001b[39;00m \u001b[38;5;129;01mnot\u001b[39;00m missing_names \u001b[38;5;129;01mand\u001b[39;00m \u001b[38;5;129;01mnot\u001b[39;00m unexpected_names:\n\u001b[0;32m    531\u001b[0m     message \u001b[38;5;241m+\u001b[39m\u001b[38;5;241m=\u001b[39m (\n\u001b[0;32m    532\u001b[0m         \u001b[38;5;124m\"\u001b[39m\u001b[38;5;124mFeature names must be in the same order as they were in fit.\u001b[39m\u001b[38;5;130;01m\\n\u001b[39;00m\u001b[38;5;124m\"\u001b[39m\n\u001b[0;32m    533\u001b[0m     )\n\u001b[1;32m--> 535\u001b[0m \u001b[38;5;28;01mraise\u001b[39;00m \u001b[38;5;167;01mValueError\u001b[39;00m(message)\n",
      "\u001b[1;31mValueError\u001b[0m: The feature names should match those that were passed during fit.\nFeature names unseen at fit time:\n- attack\n- attack_player_traits\n- attacking_crossing\n- attacking_heading_accuracy\n- body_type\n- ...\nFeature names seen at fit time, yet now missing:\n- categorical__body_type\n- categorical__preferred_foot\n- numerical__attack\n- numerical__attack_player_traits\n- numerical__attacking_crossing\n- ...\n"
     ]
    }
   ],
   "source": [
    "from sklearn.linear_model import LogisticRegression\n",
    "from sklearn.model_selection import GridSearchCV\n",
    "from sklearn.metrics import classification_report, f1_score\n",
    "\n",
    "# Define the logistic regression model\n",
    "logreg = LogisticRegression(random_state=42)\n",
    "\n",
    "param_grid = {\n",
    "    'C': [0.01, 0.1, 1, 10, 100],\n",
    "    'penalty': ['l2', 'none'],\n",
    "    'solver': ['lbfgs', 'saga'],\n",
    "    'multi_class': ['multinomial'],\n",
    "    'class_weight': [None, 'balanced'],\n",
    "    'max_iter': [100, 200, 300]\n",
    "}\n",
    "# Define hyperparameter grid\n",
    "param_grid = {\n",
    "    'C': [0.01, 0.1, 1, 10],  # Regularization strength\n",
    "    'solver': ['liblinear', 'lbfgs'],  # Different solvers for optimization\n",
    "    'penalty': ['l2'],  # Regularization penalty (l1 requires specific solvers)\n",
    "    'class_weight': [None]  # Handling class imbalance\n",
    "}\n",
    "# Import necessary libraries\n",
    "from sklearn.linear_model import LogisticRegression\n",
    "from sklearn.model_selection import GridSearchCV\n",
    "\n",
    "# Define the parameter grid\n",
    "grid_search = GridSearchCV(\n",
    "    estimator=logreg,\n",
    "    param_grid=param_grid,\n",
    "    scoring='f1_weighted',  \n",
    "    cv=5,  # 5-fold cross-validation\n",
    "    n_jobs=-1,  # Utilize all available cores\n",
    "    verbose=2,\n",
    "    return_train_score=True)\n",
    "\n",
    "# Fit GridSearchCV on the processed training data\n",
    "grid_search.fit(X_train_processed, y_train)\n",
    "\n",
    "# Best hyperparameters\n",
    "print(\"Best Hyperparameters:\", grid_search.best_params_)\n",
    "\n",
    "# Evaluate the optimized model on the test set\n",
    "best_logreg = grid_search.best_estimator_\n",
    "y_pred = best_logreg.predict(X_test)\n",
    "\n",
    "# Calculate and print weighted F1 score\n",
    "weighted_f1 = f1_score(y_test, y_pred, average='weighted')\n",
    "print(f\"Optimized Weighted F1 Score: {weighted_f1:.4f}\")\n"
   ]
  },
  {
   "cell_type": "markdown",
   "id": "5930fdc5",
   "metadata": {},
   "source": [
    "## 2.6  Model Selection - Random Forest With F-1 optimization"
   ]
  },
  {
   "cell_type": "code",
   "execution_count": 55,
   "id": "bc8238a0",
   "metadata": {},
   "outputs": [
    {
     "name": "stdout",
     "output_type": "stream",
     "text": [
      "Fitting 5 folds for each of 720 candidates, totalling 3600 fits\n"
     ]
    },
    {
     "ename": "KeyboardInterrupt",
     "evalue": "",
     "output_type": "error",
     "traceback": [
      "\u001b[1;31m---------------------------------------------------------------------------\u001b[0m",
      "\u001b[1;31mKeyboardInterrupt\u001b[0m                         Traceback (most recent call last)",
      "Cell \u001b[1;32mIn[55], line 34\u001b[0m\n\u001b[0;32m     24\u001b[0m grid_search \u001b[38;5;241m=\u001b[39m GridSearchCV(\n\u001b[0;32m     25\u001b[0m     estimator\u001b[38;5;241m=\u001b[39mrf_model, \n\u001b[0;32m     26\u001b[0m     param_grid\u001b[38;5;241m=\u001b[39mparam_grid, \n\u001b[1;32m   (...)\u001b[0m\n\u001b[0;32m     30\u001b[0m     verbose\u001b[38;5;241m=\u001b[39m\u001b[38;5;241m4\u001b[39m               \u001b[38;5;66;03m# Show progress\u001b[39;00m\n\u001b[0;32m     31\u001b[0m )\n\u001b[0;32m     33\u001b[0m \u001b[38;5;66;03m# Perform Grid Search\u001b[39;00m\n\u001b[1;32m---> 34\u001b[0m grid_search\u001b[38;5;241m.\u001b[39mfit(X_train_processed, y_train)\n\u001b[0;32m     36\u001b[0m \u001b[38;5;66;03m# Get the best model from the Grid Search\u001b[39;00m\n\u001b[0;32m     37\u001b[0m best_rf_model \u001b[38;5;241m=\u001b[39m grid_search\u001b[38;5;241m.\u001b[39mbest_estimator_\n",
      "File \u001b[1;32mc:\\Users\\Blanca\\anaconda3\\Lib\\site-packages\\sklearn\\base.py:1474\u001b[0m, in \u001b[0;36m_fit_context.<locals>.decorator.<locals>.wrapper\u001b[1;34m(estimator, *args, **kwargs)\u001b[0m\n\u001b[0;32m   1467\u001b[0m     estimator\u001b[38;5;241m.\u001b[39m_validate_params()\n\u001b[0;32m   1469\u001b[0m \u001b[38;5;28;01mwith\u001b[39;00m config_context(\n\u001b[0;32m   1470\u001b[0m     skip_parameter_validation\u001b[38;5;241m=\u001b[39m(\n\u001b[0;32m   1471\u001b[0m         prefer_skip_nested_validation \u001b[38;5;129;01mor\u001b[39;00m global_skip_validation\n\u001b[0;32m   1472\u001b[0m     )\n\u001b[0;32m   1473\u001b[0m ):\n\u001b[1;32m-> 1474\u001b[0m     \u001b[38;5;28;01mreturn\u001b[39;00m fit_method(estimator, \u001b[38;5;241m*\u001b[39margs, \u001b[38;5;241m*\u001b[39m\u001b[38;5;241m*\u001b[39mkwargs)\n",
      "File \u001b[1;32mc:\\Users\\Blanca\\anaconda3\\Lib\\site-packages\\sklearn\\model_selection\\_search.py:970\u001b[0m, in \u001b[0;36mBaseSearchCV.fit\u001b[1;34m(self, X, y, **params)\u001b[0m\n\u001b[0;32m    964\u001b[0m     results \u001b[38;5;241m=\u001b[39m \u001b[38;5;28mself\u001b[39m\u001b[38;5;241m.\u001b[39m_format_results(\n\u001b[0;32m    965\u001b[0m         all_candidate_params, n_splits, all_out, all_more_results\n\u001b[0;32m    966\u001b[0m     )\n\u001b[0;32m    968\u001b[0m     \u001b[38;5;28;01mreturn\u001b[39;00m results\n\u001b[1;32m--> 970\u001b[0m \u001b[38;5;28mself\u001b[39m\u001b[38;5;241m.\u001b[39m_run_search(evaluate_candidates)\n\u001b[0;32m    972\u001b[0m \u001b[38;5;66;03m# multimetric is determined here because in the case of a callable\u001b[39;00m\n\u001b[0;32m    973\u001b[0m \u001b[38;5;66;03m# self.scoring the return type is only known after calling\u001b[39;00m\n\u001b[0;32m    974\u001b[0m first_test_score \u001b[38;5;241m=\u001b[39m all_out[\u001b[38;5;241m0\u001b[39m][\u001b[38;5;124m\"\u001b[39m\u001b[38;5;124mtest_scores\u001b[39m\u001b[38;5;124m\"\u001b[39m]\n",
      "File \u001b[1;32mc:\\Users\\Blanca\\anaconda3\\Lib\\site-packages\\sklearn\\model_selection\\_search.py:1527\u001b[0m, in \u001b[0;36mGridSearchCV._run_search\u001b[1;34m(self, evaluate_candidates)\u001b[0m\n\u001b[0;32m   1525\u001b[0m \u001b[38;5;28;01mdef\u001b[39;00m \u001b[38;5;21m_run_search\u001b[39m(\u001b[38;5;28mself\u001b[39m, evaluate_candidates):\n\u001b[0;32m   1526\u001b[0m \u001b[38;5;250m    \u001b[39m\u001b[38;5;124;03m\"\"\"Search all candidates in param_grid\"\"\"\u001b[39;00m\n\u001b[1;32m-> 1527\u001b[0m     evaluate_candidates(ParameterGrid(\u001b[38;5;28mself\u001b[39m\u001b[38;5;241m.\u001b[39mparam_grid))\n",
      "File \u001b[1;32mc:\\Users\\Blanca\\anaconda3\\Lib\\site-packages\\sklearn\\model_selection\\_search.py:916\u001b[0m, in \u001b[0;36mBaseSearchCV.fit.<locals>.evaluate_candidates\u001b[1;34m(candidate_params, cv, more_results)\u001b[0m\n\u001b[0;32m    908\u001b[0m \u001b[38;5;28;01mif\u001b[39;00m \u001b[38;5;28mself\u001b[39m\u001b[38;5;241m.\u001b[39mverbose \u001b[38;5;241m>\u001b[39m \u001b[38;5;241m0\u001b[39m:\n\u001b[0;32m    909\u001b[0m     \u001b[38;5;28mprint\u001b[39m(\n\u001b[0;32m    910\u001b[0m         \u001b[38;5;124m\"\u001b[39m\u001b[38;5;124mFitting \u001b[39m\u001b[38;5;132;01m{0}\u001b[39;00m\u001b[38;5;124m folds for each of \u001b[39m\u001b[38;5;132;01m{1}\u001b[39;00m\u001b[38;5;124m candidates,\u001b[39m\u001b[38;5;124m\"\u001b[39m\n\u001b[0;32m    911\u001b[0m         \u001b[38;5;124m\"\u001b[39m\u001b[38;5;124m totalling \u001b[39m\u001b[38;5;132;01m{2}\u001b[39;00m\u001b[38;5;124m fits\u001b[39m\u001b[38;5;124m\"\u001b[39m\u001b[38;5;241m.\u001b[39mformat(\n\u001b[0;32m    912\u001b[0m             n_splits, n_candidates, n_candidates \u001b[38;5;241m*\u001b[39m n_splits\n\u001b[0;32m    913\u001b[0m         )\n\u001b[0;32m    914\u001b[0m     )\n\u001b[1;32m--> 916\u001b[0m out \u001b[38;5;241m=\u001b[39m parallel(\n\u001b[0;32m    917\u001b[0m     delayed(_fit_and_score)(\n\u001b[0;32m    918\u001b[0m         clone(base_estimator),\n\u001b[0;32m    919\u001b[0m         X,\n\u001b[0;32m    920\u001b[0m         y,\n\u001b[0;32m    921\u001b[0m         train\u001b[38;5;241m=\u001b[39mtrain,\n\u001b[0;32m    922\u001b[0m         test\u001b[38;5;241m=\u001b[39mtest,\n\u001b[0;32m    923\u001b[0m         parameters\u001b[38;5;241m=\u001b[39mparameters,\n\u001b[0;32m    924\u001b[0m         split_progress\u001b[38;5;241m=\u001b[39m(split_idx, n_splits),\n\u001b[0;32m    925\u001b[0m         candidate_progress\u001b[38;5;241m=\u001b[39m(cand_idx, n_candidates),\n\u001b[0;32m    926\u001b[0m         \u001b[38;5;241m*\u001b[39m\u001b[38;5;241m*\u001b[39mfit_and_score_kwargs,\n\u001b[0;32m    927\u001b[0m     )\n\u001b[0;32m    928\u001b[0m     \u001b[38;5;28;01mfor\u001b[39;00m (cand_idx, parameters), (split_idx, (train, test)) \u001b[38;5;129;01min\u001b[39;00m product(\n\u001b[0;32m    929\u001b[0m         \u001b[38;5;28menumerate\u001b[39m(candidate_params),\n\u001b[0;32m    930\u001b[0m         \u001b[38;5;28menumerate\u001b[39m(cv\u001b[38;5;241m.\u001b[39msplit(X, y, \u001b[38;5;241m*\u001b[39m\u001b[38;5;241m*\u001b[39mrouted_params\u001b[38;5;241m.\u001b[39msplitter\u001b[38;5;241m.\u001b[39msplit)),\n\u001b[0;32m    931\u001b[0m     )\n\u001b[0;32m    932\u001b[0m )\n\u001b[0;32m    934\u001b[0m \u001b[38;5;28;01mif\u001b[39;00m \u001b[38;5;28mlen\u001b[39m(out) \u001b[38;5;241m<\u001b[39m \u001b[38;5;241m1\u001b[39m:\n\u001b[0;32m    935\u001b[0m     \u001b[38;5;28;01mraise\u001b[39;00m \u001b[38;5;167;01mValueError\u001b[39;00m(\n\u001b[0;32m    936\u001b[0m         \u001b[38;5;124m\"\u001b[39m\u001b[38;5;124mNo fits were performed. \u001b[39m\u001b[38;5;124m\"\u001b[39m\n\u001b[0;32m    937\u001b[0m         \u001b[38;5;124m\"\u001b[39m\u001b[38;5;124mWas the CV iterator empty? \u001b[39m\u001b[38;5;124m\"\u001b[39m\n\u001b[0;32m    938\u001b[0m         \u001b[38;5;124m\"\u001b[39m\u001b[38;5;124mWere there no candidates?\u001b[39m\u001b[38;5;124m\"\u001b[39m\n\u001b[0;32m    939\u001b[0m     )\n",
      "File \u001b[1;32mc:\\Users\\Blanca\\anaconda3\\Lib\\site-packages\\sklearn\\utils\\parallel.py:67\u001b[0m, in \u001b[0;36mParallel.__call__\u001b[1;34m(self, iterable)\u001b[0m\n\u001b[0;32m     62\u001b[0m config \u001b[38;5;241m=\u001b[39m get_config()\n\u001b[0;32m     63\u001b[0m iterable_with_config \u001b[38;5;241m=\u001b[39m (\n\u001b[0;32m     64\u001b[0m     (_with_config(delayed_func, config), args, kwargs)\n\u001b[0;32m     65\u001b[0m     \u001b[38;5;28;01mfor\u001b[39;00m delayed_func, args, kwargs \u001b[38;5;129;01min\u001b[39;00m iterable\n\u001b[0;32m     66\u001b[0m )\n\u001b[1;32m---> 67\u001b[0m \u001b[38;5;28;01mreturn\u001b[39;00m \u001b[38;5;28msuper\u001b[39m()\u001b[38;5;241m.\u001b[39m\u001b[38;5;21m__call__\u001b[39m(iterable_with_config)\n",
      "File \u001b[1;32mc:\\Users\\Blanca\\anaconda3\\Lib\\site-packages\\joblib\\parallel.py:2007\u001b[0m, in \u001b[0;36mParallel.__call__\u001b[1;34m(self, iterable)\u001b[0m\n\u001b[0;32m   2001\u001b[0m \u001b[38;5;66;03m# The first item from the output is blank, but it makes the interpreter\u001b[39;00m\n\u001b[0;32m   2002\u001b[0m \u001b[38;5;66;03m# progress until it enters the Try/Except block of the generator and\u001b[39;00m\n\u001b[0;32m   2003\u001b[0m \u001b[38;5;66;03m# reaches the first `yield` statement. This starts the asynchronous\u001b[39;00m\n\u001b[0;32m   2004\u001b[0m \u001b[38;5;66;03m# dispatch of the tasks to the workers.\u001b[39;00m\n\u001b[0;32m   2005\u001b[0m \u001b[38;5;28mnext\u001b[39m(output)\n\u001b[1;32m-> 2007\u001b[0m \u001b[38;5;28;01mreturn\u001b[39;00m output \u001b[38;5;28;01mif\u001b[39;00m \u001b[38;5;28mself\u001b[39m\u001b[38;5;241m.\u001b[39mreturn_generator \u001b[38;5;28;01melse\u001b[39;00m \u001b[38;5;28mlist\u001b[39m(output)\n",
      "File \u001b[1;32mc:\\Users\\Blanca\\anaconda3\\Lib\\site-packages\\joblib\\parallel.py:1650\u001b[0m, in \u001b[0;36mParallel._get_outputs\u001b[1;34m(self, iterator, pre_dispatch)\u001b[0m\n\u001b[0;32m   1647\u001b[0m     \u001b[38;5;28;01myield\u001b[39;00m\n\u001b[0;32m   1649\u001b[0m     \u001b[38;5;28;01mwith\u001b[39;00m \u001b[38;5;28mself\u001b[39m\u001b[38;5;241m.\u001b[39m_backend\u001b[38;5;241m.\u001b[39mretrieval_context():\n\u001b[1;32m-> 1650\u001b[0m         \u001b[38;5;28;01myield from\u001b[39;00m \u001b[38;5;28mself\u001b[39m\u001b[38;5;241m.\u001b[39m_retrieve()\n\u001b[0;32m   1652\u001b[0m \u001b[38;5;28;01mexcept\u001b[39;00m \u001b[38;5;167;01mGeneratorExit\u001b[39;00m:\n\u001b[0;32m   1653\u001b[0m     \u001b[38;5;66;03m# The generator has been garbage collected before being fully\u001b[39;00m\n\u001b[0;32m   1654\u001b[0m     \u001b[38;5;66;03m# consumed. This aborts the remaining tasks if possible and warn\u001b[39;00m\n\u001b[0;32m   1655\u001b[0m     \u001b[38;5;66;03m# the user if necessary.\u001b[39;00m\n\u001b[0;32m   1656\u001b[0m     \u001b[38;5;28mself\u001b[39m\u001b[38;5;241m.\u001b[39m_exception \u001b[38;5;241m=\u001b[39m \u001b[38;5;28;01mTrue\u001b[39;00m\n",
      "File \u001b[1;32mc:\\Users\\Blanca\\anaconda3\\Lib\\site-packages\\joblib\\parallel.py:1762\u001b[0m, in \u001b[0;36mParallel._retrieve\u001b[1;34m(self)\u001b[0m\n\u001b[0;32m   1757\u001b[0m \u001b[38;5;66;03m# If the next job is not ready for retrieval yet, we just wait for\u001b[39;00m\n\u001b[0;32m   1758\u001b[0m \u001b[38;5;66;03m# async callbacks to progress.\u001b[39;00m\n\u001b[0;32m   1759\u001b[0m \u001b[38;5;28;01mif\u001b[39;00m ((\u001b[38;5;28mlen\u001b[39m(\u001b[38;5;28mself\u001b[39m\u001b[38;5;241m.\u001b[39m_jobs) \u001b[38;5;241m==\u001b[39m \u001b[38;5;241m0\u001b[39m) \u001b[38;5;129;01mor\u001b[39;00m\n\u001b[0;32m   1760\u001b[0m     (\u001b[38;5;28mself\u001b[39m\u001b[38;5;241m.\u001b[39m_jobs[\u001b[38;5;241m0\u001b[39m]\u001b[38;5;241m.\u001b[39mget_status(\n\u001b[0;32m   1761\u001b[0m         timeout\u001b[38;5;241m=\u001b[39m\u001b[38;5;28mself\u001b[39m\u001b[38;5;241m.\u001b[39mtimeout) \u001b[38;5;241m==\u001b[39m TASK_PENDING)):\n\u001b[1;32m-> 1762\u001b[0m     time\u001b[38;5;241m.\u001b[39msleep(\u001b[38;5;241m0.01\u001b[39m)\n\u001b[0;32m   1763\u001b[0m     \u001b[38;5;28;01mcontinue\u001b[39;00m\n\u001b[0;32m   1765\u001b[0m \u001b[38;5;66;03m# We need to be careful: the job list can be filling up as\u001b[39;00m\n\u001b[0;32m   1766\u001b[0m \u001b[38;5;66;03m# we empty it and Python list are not thread-safe by\u001b[39;00m\n\u001b[0;32m   1767\u001b[0m \u001b[38;5;66;03m# default hence the use of the lock\u001b[39;00m\n",
      "\u001b[1;31mKeyboardInterrupt\u001b[0m: "
     ]
    }
   ],
   "source": [
    "from sklearn.ensemble import RandomForestClassifier\n",
    "from sklearn.model_selection import GridSearchCV, train_test_split\n",
    "from sklearn.metrics import classification_report\n",
    "from sklearn.model_selection import StratifiedKFold\n",
    "import joblib\n",
    "\n",
    "\n",
    "# Define the parameter grid for Random Forest\n",
    "param_grid = {\n",
    "    'n_estimators': [50, 100, 150, 200],           # Number of trees\n",
    "    'max_depth': [5, 7, 10, 12, 14],           # Maximum depth of trees\n",
    "    'min_samples_split': [2, 5, 10],           # Minimum samples to split a node\n",
    "    'min_samples_leaf': [1, 2, 4, 6],             # Minimum samples in a leaf node\n",
    "    'max_features': ['sqrt', 'log2', None],    # Number of features considered for splitting\n",
    "    'class_weight': ['balanced']         # Handle class imbalance\n",
    "}\n",
    "\n",
    "# Initialize Random Forest Classifier\n",
    "rf_model = RandomForestClassifier(random_state=42)\n",
    "\n",
    "# Stratified K-Fold: Ensures that each fold has a representative distribution of classes\n",
    "cv_strategy = StratifiedKFold(n_splits=5, shuffle=True, random_state=42)\n",
    "# Initialize GridSearchCV\n",
    "grid_search = GridSearchCV(\n",
    "    estimator=rf_model, \n",
    "    param_grid=param_grid, \n",
    "    scoring='f1_weighted',  # Optimize for F1-Weighted\n",
    "    cv=cv_strategy,                   # 5-fold cross-validation\n",
    "    n_jobs=-1,              # Use all CPU cores\n",
    "    verbose=4               # Show progress\n",
    ")\n",
    "\n",
    "# Perform Grid Search\n",
    "grid_search.fit(X_train_processed, y_train)\n",
    "\n",
    "# Get the best model from the Grid Search\n",
    "best_rf_model = grid_search.best_estimator_\n",
    "\n",
    "# Print the best hyperparameters\n",
    "print(\"Best Hyperparameters:\", grid_search.best_params_)\n",
    "\n",
    "# Train the best model on the full training set\n",
    "best_rf_model.fit(X_train_processed, y_train)\n",
    "\n",
    "\n",
    "# Evaluate the optimized model on the test set\n",
    "y_pred = best_rf_model.predict(X_test)\n",
    "\n",
    "# Calculate the weighted F1 score\n",
    "weighted_f1 = f1_score(y_test, y_pred, average='weighted')\n",
    "\n",
    "# Prin the weighted F1 score\n",
    "print(f\"Weighted F1 Score: {weighted_f1:.4f}\")"
   ]
  },
  {
   "cell_type": "markdown",
   "id": "84df179e",
   "metadata": {},
   "source": [
    "Also no improvement to baseline logistic regression. Next we try lighgbm model."
   ]
  },
  {
   "cell_type": "markdown",
   "id": "e4e0588f",
   "metadata": {},
   "source": [
    "## 2.7 Model Selection - Lightgbm With F-1 optimization "
   ]
  },
  {
   "cell_type": "code",
   "execution_count": 65,
   "id": "ef7b5cb2",
   "metadata": {},
   "outputs": [
    {
     "ename": "ValueError",
     "evalue": "DataFrame.dtypes for data must be int, float or bool.\nDid not expect the data types in the following fields: body_type",
     "output_type": "error",
     "traceback": [
      "\u001b[1;31m---------------------------------------------------------------------------\u001b[0m",
      "\u001b[1;31mValueError\u001b[0m                                Traceback (most recent call last)",
      "Cell \u001b[1;32mIn[65], line 41\u001b[0m\n\u001b[0;32m     38\u001b[0m best_lgb_model\u001b[38;5;241m.\u001b[39mfit(X_train_processed, y_train)\n\u001b[0;32m     40\u001b[0m \u001b[38;5;66;03m# Evaluate the optimized model on the test set\u001b[39;00m\n\u001b[1;32m---> 41\u001b[0m y_pred \u001b[38;5;241m=\u001b[39m best_lgb_model\u001b[38;5;241m.\u001b[39mpredict(X_test)\n\u001b[0;32m     43\u001b[0m \u001b[38;5;66;03m# Calculate the weighted F1 score\u001b[39;00m\n\u001b[0;32m     44\u001b[0m weighted_f1 \u001b[38;5;241m=\u001b[39m f1_score(y_test, y_pred, average\u001b[38;5;241m=\u001b[39m\u001b[38;5;124m'\u001b[39m\u001b[38;5;124mweighted\u001b[39m\u001b[38;5;124m'\u001b[39m)\n",
      "File \u001b[1;32mc:\\Users\\Blanca\\anaconda3\\Lib\\site-packages\\lightgbm\\sklearn.py:984\u001b[0m, in \u001b[0;36mLGBMClassifier.predict\u001b[1;34m(self, X, raw_score, start_iteration, num_iteration, pred_leaf, pred_contrib, **kwargs)\u001b[0m\n\u001b[0;32m    981\u001b[0m \u001b[38;5;28;01mdef\u001b[39;00m \u001b[38;5;21mpredict\u001b[39m(\u001b[38;5;28mself\u001b[39m, X, raw_score\u001b[38;5;241m=\u001b[39m\u001b[38;5;28;01mFalse\u001b[39;00m, start_iteration\u001b[38;5;241m=\u001b[39m\u001b[38;5;241m0\u001b[39m, num_iteration\u001b[38;5;241m=\u001b[39m\u001b[38;5;28;01mNone\u001b[39;00m,\n\u001b[0;32m    982\u001b[0m             pred_leaf\u001b[38;5;241m=\u001b[39m\u001b[38;5;28;01mFalse\u001b[39;00m, pred_contrib\u001b[38;5;241m=\u001b[39m\u001b[38;5;28;01mFalse\u001b[39;00m, \u001b[38;5;241m*\u001b[39m\u001b[38;5;241m*\u001b[39mkwargs):\n\u001b[0;32m    983\u001b[0m \u001b[38;5;250m    \u001b[39m\u001b[38;5;124;03m\"\"\"Docstring is inherited from the LGBMModel.\"\"\"\u001b[39;00m\n\u001b[1;32m--> 984\u001b[0m     result \u001b[38;5;241m=\u001b[39m \u001b[38;5;28mself\u001b[39m\u001b[38;5;241m.\u001b[39mpredict_proba(X, raw_score, start_iteration, num_iteration,\n\u001b[0;32m    985\u001b[0m                                 pred_leaf, pred_contrib, \u001b[38;5;241m*\u001b[39m\u001b[38;5;241m*\u001b[39mkwargs)\n\u001b[0;32m    986\u001b[0m     \u001b[38;5;28;01mif\u001b[39;00m \u001b[38;5;28mcallable\u001b[39m(\u001b[38;5;28mself\u001b[39m\u001b[38;5;241m.\u001b[39m_objective) \u001b[38;5;129;01mor\u001b[39;00m raw_score \u001b[38;5;129;01mor\u001b[39;00m pred_leaf \u001b[38;5;129;01mor\u001b[39;00m pred_contrib:\n\u001b[0;32m    987\u001b[0m         \u001b[38;5;28;01mreturn\u001b[39;00m result\n",
      "File \u001b[1;32mc:\\Users\\Blanca\\anaconda3\\Lib\\site-packages\\lightgbm\\sklearn.py:997\u001b[0m, in \u001b[0;36mLGBMClassifier.predict_proba\u001b[1;34m(self, X, raw_score, start_iteration, num_iteration, pred_leaf, pred_contrib, **kwargs)\u001b[0m\n\u001b[0;32m    994\u001b[0m \u001b[38;5;28;01mdef\u001b[39;00m \u001b[38;5;21mpredict_proba\u001b[39m(\u001b[38;5;28mself\u001b[39m, X, raw_score\u001b[38;5;241m=\u001b[39m\u001b[38;5;28;01mFalse\u001b[39;00m, start_iteration\u001b[38;5;241m=\u001b[39m\u001b[38;5;241m0\u001b[39m, num_iteration\u001b[38;5;241m=\u001b[39m\u001b[38;5;28;01mNone\u001b[39;00m,\n\u001b[0;32m    995\u001b[0m                   pred_leaf\u001b[38;5;241m=\u001b[39m\u001b[38;5;28;01mFalse\u001b[39;00m, pred_contrib\u001b[38;5;241m=\u001b[39m\u001b[38;5;28;01mFalse\u001b[39;00m, \u001b[38;5;241m*\u001b[39m\u001b[38;5;241m*\u001b[39mkwargs):\n\u001b[0;32m    996\u001b[0m \u001b[38;5;250m    \u001b[39m\u001b[38;5;124;03m\"\"\"Docstring is set after definition, using a template.\"\"\"\u001b[39;00m\n\u001b[1;32m--> 997\u001b[0m     result \u001b[38;5;241m=\u001b[39m \u001b[38;5;28msuper\u001b[39m()\u001b[38;5;241m.\u001b[39mpredict(X, raw_score, start_iteration, num_iteration, pred_leaf, pred_contrib, \u001b[38;5;241m*\u001b[39m\u001b[38;5;241m*\u001b[39mkwargs)\n\u001b[0;32m    998\u001b[0m     \u001b[38;5;28;01mif\u001b[39;00m \u001b[38;5;28mcallable\u001b[39m(\u001b[38;5;28mself\u001b[39m\u001b[38;5;241m.\u001b[39m_objective) \u001b[38;5;129;01mand\u001b[39;00m \u001b[38;5;129;01mnot\u001b[39;00m (raw_score \u001b[38;5;129;01mor\u001b[39;00m pred_leaf \u001b[38;5;129;01mor\u001b[39;00m pred_contrib):\n\u001b[0;32m    999\u001b[0m         _log_warning(\u001b[38;5;124m\"\u001b[39m\u001b[38;5;124mCannot compute class probabilities or labels \u001b[39m\u001b[38;5;124m\"\u001b[39m\n\u001b[0;32m   1000\u001b[0m                      \u001b[38;5;124m\"\u001b[39m\u001b[38;5;124mdue to the usage of customized objective function.\u001b[39m\u001b[38;5;130;01m\\n\u001b[39;00m\u001b[38;5;124m\"\u001b[39m\n\u001b[0;32m   1001\u001b[0m                      \u001b[38;5;124m\"\u001b[39m\u001b[38;5;124mReturning raw scores instead.\u001b[39m\u001b[38;5;124m\"\u001b[39m)\n",
      "File \u001b[1;32mc:\\Users\\Blanca\\anaconda3\\Lib\\site-packages\\lightgbm\\sklearn.py:803\u001b[0m, in \u001b[0;36mLGBMModel.predict\u001b[1;34m(self, X, raw_score, start_iteration, num_iteration, pred_leaf, pred_contrib, **kwargs)\u001b[0m\n\u001b[0;32m    799\u001b[0m \u001b[38;5;28;01mif\u001b[39;00m \u001b[38;5;28mself\u001b[39m\u001b[38;5;241m.\u001b[39m_n_features \u001b[38;5;241m!=\u001b[39m n_features:\n\u001b[0;32m    800\u001b[0m     \u001b[38;5;28;01mraise\u001b[39;00m \u001b[38;5;167;01mValueError\u001b[39;00m(\u001b[38;5;124m\"\u001b[39m\u001b[38;5;124mNumber of features of the model must \u001b[39m\u001b[38;5;124m\"\u001b[39m\n\u001b[0;32m    801\u001b[0m                      \u001b[38;5;124mf\u001b[39m\u001b[38;5;124m\"\u001b[39m\u001b[38;5;124mmatch the input. Model n_features_ is \u001b[39m\u001b[38;5;132;01m{\u001b[39;00m\u001b[38;5;28mself\u001b[39m\u001b[38;5;241m.\u001b[39m_n_features\u001b[38;5;132;01m}\u001b[39;00m\u001b[38;5;124m and \u001b[39m\u001b[38;5;124m\"\u001b[39m\n\u001b[0;32m    802\u001b[0m                      \u001b[38;5;124mf\u001b[39m\u001b[38;5;124m\"\u001b[39m\u001b[38;5;124minput n_features is \u001b[39m\u001b[38;5;132;01m{\u001b[39;00mn_features\u001b[38;5;132;01m}\u001b[39;00m\u001b[38;5;124m\"\u001b[39m)\n\u001b[1;32m--> 803\u001b[0m \u001b[38;5;28;01mreturn\u001b[39;00m \u001b[38;5;28mself\u001b[39m\u001b[38;5;241m.\u001b[39m_Booster\u001b[38;5;241m.\u001b[39mpredict(X, raw_score\u001b[38;5;241m=\u001b[39mraw_score, start_iteration\u001b[38;5;241m=\u001b[39mstart_iteration, num_iteration\u001b[38;5;241m=\u001b[39mnum_iteration,\n\u001b[0;32m    804\u001b[0m                              pred_leaf\u001b[38;5;241m=\u001b[39mpred_leaf, pred_contrib\u001b[38;5;241m=\u001b[39mpred_contrib, \u001b[38;5;241m*\u001b[39m\u001b[38;5;241m*\u001b[39mkwargs)\n",
      "File \u001b[1;32mc:\\Users\\Blanca\\anaconda3\\Lib\\site-packages\\lightgbm\\basic.py:3538\u001b[0m, in \u001b[0;36mBooster.predict\u001b[1;34m(self, data, start_iteration, num_iteration, raw_score, pred_leaf, pred_contrib, data_has_header, is_reshape, **kwargs)\u001b[0m\n\u001b[0;32m   3536\u001b[0m     \u001b[38;5;28;01melse\u001b[39;00m:\n\u001b[0;32m   3537\u001b[0m         num_iteration \u001b[38;5;241m=\u001b[39m \u001b[38;5;241m-\u001b[39m\u001b[38;5;241m1\u001b[39m\n\u001b[1;32m-> 3538\u001b[0m \u001b[38;5;28;01mreturn\u001b[39;00m predictor\u001b[38;5;241m.\u001b[39mpredict(data, start_iteration, num_iteration,\n\u001b[0;32m   3539\u001b[0m                          raw_score, pred_leaf, pred_contrib,\n\u001b[0;32m   3540\u001b[0m                          data_has_header, is_reshape)\n",
      "File \u001b[1;32mc:\\Users\\Blanca\\anaconda3\\Lib\\site-packages\\lightgbm\\basic.py:820\u001b[0m, in \u001b[0;36m_InnerPredictor.predict\u001b[1;34m(self, data, start_iteration, num_iteration, raw_score, pred_leaf, pred_contrib, data_has_header, is_reshape)\u001b[0m\n\u001b[0;32m    818\u001b[0m \u001b[38;5;28;01mif\u001b[39;00m \u001b[38;5;28misinstance\u001b[39m(data, Dataset):\n\u001b[0;32m    819\u001b[0m     \u001b[38;5;28;01mraise\u001b[39;00m \u001b[38;5;167;01mTypeError\u001b[39;00m(\u001b[38;5;124m\"\u001b[39m\u001b[38;5;124mCannot use Dataset instance for prediction, please use raw data instead\u001b[39m\u001b[38;5;124m\"\u001b[39m)\n\u001b[1;32m--> 820\u001b[0m data \u001b[38;5;241m=\u001b[39m _data_from_pandas(data, \u001b[38;5;28;01mNone\u001b[39;00m, \u001b[38;5;28;01mNone\u001b[39;00m, \u001b[38;5;28mself\u001b[39m\u001b[38;5;241m.\u001b[39mpandas_categorical)[\u001b[38;5;241m0\u001b[39m]\n\u001b[0;32m    821\u001b[0m predict_type \u001b[38;5;241m=\u001b[39m C_API_PREDICT_NORMAL\n\u001b[0;32m    822\u001b[0m \u001b[38;5;28;01mif\u001b[39;00m raw_score:\n",
      "File \u001b[1;32mc:\\Users\\Blanca\\anaconda3\\Lib\\site-packages\\lightgbm\\basic.py:594\u001b[0m, in \u001b[0;36m_data_from_pandas\u001b[1;34m(data, feature_name, categorical_feature, pandas_categorical)\u001b[0m\n\u001b[0;32m    592\u001b[0m \u001b[38;5;28;01mif\u001b[39;00m bad_indices:\n\u001b[0;32m    593\u001b[0m     bad_index_cols_str \u001b[38;5;241m=\u001b[39m \u001b[38;5;124m'\u001b[39m\u001b[38;5;124m, \u001b[39m\u001b[38;5;124m'\u001b[39m\u001b[38;5;241m.\u001b[39mjoin(data\u001b[38;5;241m.\u001b[39mcolumns[bad_indices])\n\u001b[1;32m--> 594\u001b[0m     \u001b[38;5;28;01mraise\u001b[39;00m \u001b[38;5;167;01mValueError\u001b[39;00m(\u001b[38;5;124m\"\u001b[39m\u001b[38;5;124mDataFrame.dtypes for data must be int, float or bool.\u001b[39m\u001b[38;5;130;01m\\n\u001b[39;00m\u001b[38;5;124m\"\u001b[39m\n\u001b[0;32m    595\u001b[0m                      \u001b[38;5;124m\"\u001b[39m\u001b[38;5;124mDid not expect the data types in the following fields: \u001b[39m\u001b[38;5;124m\"\u001b[39m\n\u001b[0;32m    596\u001b[0m                      \u001b[38;5;124mf\u001b[39m\u001b[38;5;124m\"\u001b[39m\u001b[38;5;132;01m{\u001b[39;00mbad_index_cols_str\u001b[38;5;132;01m}\u001b[39;00m\u001b[38;5;124m\"\u001b[39m)\n\u001b[0;32m    597\u001b[0m data \u001b[38;5;241m=\u001b[39m data\u001b[38;5;241m.\u001b[39mvalues\n\u001b[0;32m    598\u001b[0m \u001b[38;5;28;01mif\u001b[39;00m data\u001b[38;5;241m.\u001b[39mdtype \u001b[38;5;241m!=\u001b[39m np\u001b[38;5;241m.\u001b[39mfloat32 \u001b[38;5;129;01mand\u001b[39;00m data\u001b[38;5;241m.\u001b[39mdtype \u001b[38;5;241m!=\u001b[39m np\u001b[38;5;241m.\u001b[39mfloat64:\n",
      "\u001b[1;31mValueError\u001b[0m: DataFrame.dtypes for data must be int, float or bool.\nDid not expect the data types in the following fields: body_type"
     ]
    }
   ],
   "source": [
    "import numpy as np\n",
    "import pandas as pd\n",
    "import lightgbm as lgb\n",
    "from sklearn.model_selection import GridSearchCV, RandomizedSearchCV\n",
    "from sklearn.model_selection import StratifiedKFold\n",
    "from sklearn.metrics import f1_score\n",
    "\n",
    "\n",
    "# Define a LightGBM classifier\n",
    "lgb_classifier = lgb.LGBMClassifier(objective='multiclass',random_state=42)\n",
    "\n",
    "# Stratified K-Fold: Ensures that each fold has a representative distribution of classes\n",
    "cv_strategy = StratifiedKFold(n_splits=5, shuffle=True, random_state=42)\n",
    "\n",
    "# Define the hyperparameter grid for random search\n",
    "param_dist = {\n",
    "    'n_estimators': np.arange(100, 301, 10),\n",
    "    'learning_rate': [0.01, 0.1, 0.2, 0.3],\n",
    "    'max_depth': np.arange(3, 6),\n",
    "}\n",
    "\n",
    "# Perform grid search\n",
    "random_search = RandomizedSearchCV( # use randomized search for faster computation\n",
    "    estimator=lgb_classifier,\n",
    "    param_distributions = param_dist, \n",
    "    scoring='f1_weighted',  # Optimize for F1-Weighted\n",
    "    cv=cv_strategy,                   # 5-fold cross-validation\n",
    "    n_jobs=-1,                \n",
    ")\n",
    "\n",
    "\n",
    "random_search.fit(X_train_processed, y_train)\n",
    "\n",
    "# Get the best model from grid search\n",
    "best_lgb_model = random_search.best_estimator_\n",
    "\n",
    "# Train the best model on the full training set\n",
    "best_lgb_model.fit(X_train_processed, y_train)\n",
    "\n",
    "# Evaluate the optimized model on the test set\n",
    "y_pred = best_lgb_model.predict(X_test)\n",
    "\n",
    "# Calculate the weighted F1 score\n",
    "weighted_f1 = f1_score(y_test, y_pred, average='weighted')\n",
    "\n",
    "# Prin the weighted F1 score\n",
    "print(f\"Weighted F1 Score: {weighted_f1:.4f}\")"
   ]
  },
  {
   "cell_type": "code",
   "execution_count": null,
   "id": "29ec1684",
   "metadata": {},
   "outputs": [
    {
     "name": "stdout",
     "output_type": "stream",
     "text": [
      "Best Hyperparameters: {'n_estimators': np.int64(150), 'max_depth': np.int64(4), 'learning_rate': 0.1}\n"
     ]
    }
   ],
   "source": [
    "# Print the best hyperparameters\n",
    "print(\"Best Hyperparameters:\", random_search.best_params_)"
   ]
  },
  {
   "cell_type": "markdown",
   "id": "11d351b6",
   "metadata": {},
   "source": [
    "# 3. Prediction on Test Set\n"
   ]
  },
  {
   "cell_type": "markdown",
   "id": "50769dbe",
   "metadata": {},
   "source": [
    "We use the simple Logistic regression as it was the one with the best weighted F-1 Score"
   ]
  },
  {
   "cell_type": "code",
   "execution_count": 100,
   "id": "bd664853",
   "metadata": {},
   "outputs": [
    {
     "name": "stdout",
     "output_type": "stream",
     "text": [
      "767\n"
     ]
    }
   ],
   "source": [
    "# Importing test data\n",
    "cwd = os.getcwd()\n",
    "test = pd.read_csv(cwd + '/Data/test.csv')\n",
    "\n",
    "print(len(test))"
   ]
  },
  {
   "cell_type": "code",
   "execution_count": 101,
   "id": "ef2cd988",
   "metadata": {},
   "outputs": [],
   "source": [
    "drop_columns = [\n",
    "    'id', 'short_name', 'overall', 'potential', 'value_eur', 'wage_eur',\n",
    "    'birthday_date', 'club_name', 'league_level', 'club_loaned_from', \n",
    "    'club_joined', 'club_contract_valid_until', 'nationality_name', 'international_reputation',\n",
    "    'real_face', 'nation_jersey_number', 'release_clause_eur'\n",
    "]\n",
    "\n",
    "test = test.drop(drop_columns, axis = 1)"
   ]
  },
  {
   "cell_type": "code",
   "execution_count": null,
   "id": "50c00b45",
   "metadata": {},
   "outputs": [],
   "source": [
    "# Preprocessing data\n",
    "test = test.drop('work_rate', axis=1)\n",
    "\n",
    "test['defense'] = test[defense_skills].mean(axis=1)\n",
    "test.drop(defense_skills, axis=1, inplace=True)\n",
    "\n",
    "test['attack'] = test[attacking_skills].mean(axis=1)\n",
    "test.drop(attacking_skills, axis=1, inplace=True)\n",
    "\n",
    "test['drib_skill'] = test[passing_skills].mean(axis=1)\n",
    "test.drop(passing_skills, axis=1, inplace=True)\n",
    "\n",
    "test['speed'] = test[speed_skills].mean(axis=1)\n",
    "test.drop(speed_skills, axis=1, inplace=True)\n",
    "\n",
    "test['right_foot_bool'] = np.where(test.preferred_foot == 'Right', 1, 0)\n",
    "test['goalkeeper_bool'] = np.where(test.goalkeeping_speed.isnull(), 0, 1)\n",
    "test = test.drop(columns = ['player_tags', 'preferred_foot'])\n",
    "test.drop(goalkeeping_attributes, axis=1, inplace=True)\n",
    "\n",
    "test['strong_weak_foot'] = (test['weak_foot'] >= 4).astype(int)\n",
    "test = test.drop(columns=['weak_foot'])\n",
    "\n",
    "test['righ_foot_speed'] = test['right_foot_bool']*test['speed']\n"
   ]
  },
  {
   "cell_type": "code",
   "execution_count": 103,
   "id": "44aec6f2",
   "metadata": {},
   "outputs": [],
   "source": [
    "# Define the mapping of traits to defensive, center, wing  or attacking skills\n",
    "traits_mapping = {\n",
    "    \"Chip Shot (AI)\": [0, 0, 1, 1],\n",
    "    \"Dives Into Tackles (AI)\": [1, 0, 0,0],\n",
    "    \"Early Crosser\": [0, 0, 1, 1],\n",
    "    \"Finesse Shot\": [0, 0, 1, 1],\n",
    "    \"Flair\": [0, 0, 1, 1],\n",
    "    \"Giant Throw-in\": [1, 0, 1, 0],\n",
    "    \"Injury Prone\": [0, 0, 0,0],\n",
    "    \"Leadership\": [0, 0, 0, 0],\n",
    "    \"Long Passer (AI)\": [1, 1,0, 0],\n",
    "    \"Long Shot Taker (AI)\": [0, 1, 0, 0],\n",
    "    \"Long Throw-in\": [1, 0, 1, 0],\n",
    "    \"One Club Player\": [0, 0, 0, 0],\n",
    "    \"Outside Foot Shot\": [0, 0, 1, 1],\n",
    "    \"Playmaker (AI)\": [0, 1, 0, 0],\n",
    "    \"Power Free-Kick\": [0, 1, 0, 1],\n",
    "    \"Power Header\": [1, 0, 0, 1],\n",
    "    \"Solid Player\": [0, 1, 0, 0],\n",
    "    \"Speed Dribbler (AI)\": [0, 0, 1, 0],\n",
    "    \"Team Player\": [0, 1, 0, 0],\n",
    "    \"Technical Dribbler (AI)\": [0, 1, 1 ,0],\n",
    "}\n",
    "\n",
    "# Fill missing values in 'player_traits' with empty strings\n",
    "test['player_traits'] = test['player_traits'].fillna('')\n",
    "\n",
    "# Initialize the new columns with 0\n",
    "test['defensive_player_traits'] = 0\n",
    "test['midfield_player_traits'] = 0\n",
    "test['wing_player_traits'] = 0\n",
    "test['attack_player_traits'] = 0\n",
    "\n",
    "# Iterate over the rows and update the new columns based on the traits\n",
    "for index, traits in test['player_traits'].items():  # Use .items() instead of .iteritems()\n",
    "    for trait in traits.split(','):\n",
    "        trait = trait.strip()  # Remove extra whitespace\n",
    "        if trait in traits_mapping:\n",
    "            test.at[index, 'defensive_player_traits'] = max(test.at[index, 'defensive_player_traits'], traits_mapping[trait][0])\n",
    "            test.at[index, 'midfield_player_traits'] = max(test.at[index, 'midfield_player_traits'], traits_mapping[trait][1])\n",
    "            test.at[index, 'wing_player_traits'] = max(test.at[index, 'wing_player_traits'], traits_mapping[trait][2])\n",
    "            test.at[index, 'attack_player_traits'] = max(test.at[index, 'attack_player_traits'], traits_mapping[trait][3])\n",
    "# Dropping column\n",
    "test = test.drop(columns=['player_traits'])"
   ]
  },
  {
   "cell_type": "code",
   "execution_count": 108,
   "id": "ba2ec39b",
   "metadata": {},
   "outputs": [
    {
     "name": "stderr",
     "output_type": "stream",
     "text": [
      "c:\\Users\\Blanca\\anaconda3\\Lib\\site-packages\\sklearn\\linear_model\\_logistic.py:469: ConvergenceWarning: lbfgs failed to converge (status=1):\n",
      "STOP: TOTAL NO. of ITERATIONS REACHED LIMIT.\n",
      "\n",
      "Increase the number of iterations (max_iter) or scale the data as shown in:\n",
      "    https://scikit-learn.org/stable/modules/preprocessing.html\n",
      "Please also refer to the documentation for alternative solver options:\n",
      "    https://scikit-learn.org/stable/modules/linear_model.html#logistic-regression\n",
      "  n_iter_i = _check_optimize_result(\n"
     ]
    }
   ],
   "source": [
    "pipe_test = make_pipeline(preprocessor, best_logreg)\n",
    "\n",
    "# Fit the pipeline to your training data\n",
    "pipe_test.fit(X_train, y_train)\n",
    "\n",
    "# Make predictions on the test set\n",
    "position = pipe_test.predict(test)"
   ]
  },
  {
   "cell_type": "code",
   "execution_count": 109,
   "id": "6191de2a",
   "metadata": {},
   "outputs": [],
   "source": [
    "test.to_csv(\"test_data_transformed.csv\")"
   ]
  },
  {
   "cell_type": "code",
   "execution_count": 111,
   "id": "02ad4485",
   "metadata": {},
   "outputs": [
    {
     "ename": "KeyError",
     "evalue": "'id'",
     "output_type": "error",
     "traceback": [
      "\u001b[1;31m---------------------------------------------------------------------------\u001b[0m",
      "\u001b[1;31mKeyError\u001b[0m                                  Traceback (most recent call last)",
      "File \u001b[1;32mc:\\Users\\Blanca\\anaconda3\\Lib\\site-packages\\pandas\\core\\indexes\\base.py:3805\u001b[0m, in \u001b[0;36mIndex.get_loc\u001b[1;34m(self, key)\u001b[0m\n\u001b[0;32m   3804\u001b[0m \u001b[38;5;28;01mtry\u001b[39;00m:\n\u001b[1;32m-> 3805\u001b[0m     \u001b[38;5;28;01mreturn\u001b[39;00m \u001b[38;5;28mself\u001b[39m\u001b[38;5;241m.\u001b[39m_engine\u001b[38;5;241m.\u001b[39mget_loc(casted_key)\n\u001b[0;32m   3806\u001b[0m \u001b[38;5;28;01mexcept\u001b[39;00m \u001b[38;5;167;01mKeyError\u001b[39;00m \u001b[38;5;28;01mas\u001b[39;00m err:\n",
      "File \u001b[1;32mindex.pyx:167\u001b[0m, in \u001b[0;36mpandas._libs.index.IndexEngine.get_loc\u001b[1;34m()\u001b[0m\n",
      "File \u001b[1;32mindex.pyx:196\u001b[0m, in \u001b[0;36mpandas._libs.index.IndexEngine.get_loc\u001b[1;34m()\u001b[0m\n",
      "File \u001b[1;32mpandas\\\\_libs\\\\hashtable_class_helper.pxi:7081\u001b[0m, in \u001b[0;36mpandas._libs.hashtable.PyObjectHashTable.get_item\u001b[1;34m()\u001b[0m\n",
      "File \u001b[1;32mpandas\\\\_libs\\\\hashtable_class_helper.pxi:7089\u001b[0m, in \u001b[0;36mpandas._libs.hashtable.PyObjectHashTable.get_item\u001b[1;34m()\u001b[0m\n",
      "\u001b[1;31mKeyError\u001b[0m: 'id'",
      "\nThe above exception was the direct cause of the following exception:\n",
      "\u001b[1;31mKeyError\u001b[0m                                  Traceback (most recent call last)",
      "Cell \u001b[1;32mIn[111], line 2\u001b[0m\n\u001b[0;32m      1\u001b[0m submission \u001b[38;5;241m=\u001b[39m pd\u001b[38;5;241m.\u001b[39mDataFrame({\n\u001b[1;32m----> 2\u001b[0m     \u001b[38;5;124m'\u001b[39m\u001b[38;5;124mid\u001b[39m\u001b[38;5;124m'\u001b[39m: test[\u001b[38;5;124m'\u001b[39m\u001b[38;5;124mid\u001b[39m\u001b[38;5;124m'\u001b[39m],\n\u001b[0;32m      3\u001b[0m     \u001b[38;5;124m'\u001b[39m\u001b[38;5;124mposition\u001b[39m\u001b[38;5;124m'\u001b[39m: position\n\u001b[0;32m      4\u001b[0m })\n\u001b[0;32m      6\u001b[0m \u001b[38;5;28mprint\u001b[39m(\u001b[38;5;124m\"\u001b[39m\u001b[38;5;130;01m\\n\u001b[39;00m\u001b[38;5;124mSample submission:\u001b[39m\u001b[38;5;124m\"\u001b[39m)\n\u001b[0;32m      7\u001b[0m \u001b[38;5;28mprint\u001b[39m(submission\u001b[38;5;241m.\u001b[39mhead())\n",
      "File \u001b[1;32mc:\\Users\\Blanca\\anaconda3\\Lib\\site-packages\\pandas\\core\\frame.py:4102\u001b[0m, in \u001b[0;36mDataFrame.__getitem__\u001b[1;34m(self, key)\u001b[0m\n\u001b[0;32m   4100\u001b[0m \u001b[38;5;28;01mif\u001b[39;00m \u001b[38;5;28mself\u001b[39m\u001b[38;5;241m.\u001b[39mcolumns\u001b[38;5;241m.\u001b[39mnlevels \u001b[38;5;241m>\u001b[39m \u001b[38;5;241m1\u001b[39m:\n\u001b[0;32m   4101\u001b[0m     \u001b[38;5;28;01mreturn\u001b[39;00m \u001b[38;5;28mself\u001b[39m\u001b[38;5;241m.\u001b[39m_getitem_multilevel(key)\n\u001b[1;32m-> 4102\u001b[0m indexer \u001b[38;5;241m=\u001b[39m \u001b[38;5;28mself\u001b[39m\u001b[38;5;241m.\u001b[39mcolumns\u001b[38;5;241m.\u001b[39mget_loc(key)\n\u001b[0;32m   4103\u001b[0m \u001b[38;5;28;01mif\u001b[39;00m is_integer(indexer):\n\u001b[0;32m   4104\u001b[0m     indexer \u001b[38;5;241m=\u001b[39m [indexer]\n",
      "File \u001b[1;32mc:\\Users\\Blanca\\anaconda3\\Lib\\site-packages\\pandas\\core\\indexes\\base.py:3812\u001b[0m, in \u001b[0;36mIndex.get_loc\u001b[1;34m(self, key)\u001b[0m\n\u001b[0;32m   3807\u001b[0m     \u001b[38;5;28;01mif\u001b[39;00m \u001b[38;5;28misinstance\u001b[39m(casted_key, \u001b[38;5;28mslice\u001b[39m) \u001b[38;5;129;01mor\u001b[39;00m (\n\u001b[0;32m   3808\u001b[0m         \u001b[38;5;28misinstance\u001b[39m(casted_key, abc\u001b[38;5;241m.\u001b[39mIterable)\n\u001b[0;32m   3809\u001b[0m         \u001b[38;5;129;01mand\u001b[39;00m \u001b[38;5;28many\u001b[39m(\u001b[38;5;28misinstance\u001b[39m(x, \u001b[38;5;28mslice\u001b[39m) \u001b[38;5;28;01mfor\u001b[39;00m x \u001b[38;5;129;01min\u001b[39;00m casted_key)\n\u001b[0;32m   3810\u001b[0m     ):\n\u001b[0;32m   3811\u001b[0m         \u001b[38;5;28;01mraise\u001b[39;00m InvalidIndexError(key)\n\u001b[1;32m-> 3812\u001b[0m     \u001b[38;5;28;01mraise\u001b[39;00m \u001b[38;5;167;01mKeyError\u001b[39;00m(key) \u001b[38;5;28;01mfrom\u001b[39;00m \u001b[38;5;21;01merr\u001b[39;00m\n\u001b[0;32m   3813\u001b[0m \u001b[38;5;28;01mexcept\u001b[39;00m \u001b[38;5;167;01mTypeError\u001b[39;00m:\n\u001b[0;32m   3814\u001b[0m     \u001b[38;5;66;03m# If we have a listlike key, _check_indexing_error will raise\u001b[39;00m\n\u001b[0;32m   3815\u001b[0m     \u001b[38;5;66;03m#  InvalidIndexError. Otherwise we fall through and re-raise\u001b[39;00m\n\u001b[0;32m   3816\u001b[0m     \u001b[38;5;66;03m#  the TypeError.\u001b[39;00m\n\u001b[0;32m   3817\u001b[0m     \u001b[38;5;28mself\u001b[39m\u001b[38;5;241m.\u001b[39m_check_indexing_error(key)\n",
      "\u001b[1;31mKeyError\u001b[0m: 'id'"
     ]
    }
   ],
   "source": [
    "submission = pd.DataFrame({\n",
    "    'id': test['id'],\n",
    "    'position': position\n",
    "})\n",
    "\n",
    "print(\"\\nSample submission:\")\n",
    "print(submission.head())\n",
    "\n",
    "submission.to_csv('kaggle_submission.csv', index=False)"
   ]
  }
 ],
 "metadata": {
  "colab": {
   "provenance": [],
   "toc_visible": true
  },
  "kernelspec": {
   "display_name": "base",
   "language": "python",
   "name": "python3"
  },
  "language_info": {
   "codemirror_mode": {
    "name": "ipython",
    "version": 3
   },
   "file_extension": ".py",
   "mimetype": "text/x-python",
   "name": "python",
   "nbconvert_exporter": "python",
   "pygments_lexer": "ipython3",
   "version": "3.11.5"
  }
 },
 "nbformat": 4,
 "nbformat_minor": 5
}
